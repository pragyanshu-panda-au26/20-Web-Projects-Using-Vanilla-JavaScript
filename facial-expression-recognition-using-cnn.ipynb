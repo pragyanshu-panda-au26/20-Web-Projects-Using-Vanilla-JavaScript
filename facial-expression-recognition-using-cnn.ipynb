{
 "cells": [
  {
   "cell_type": "markdown",
   "id": "fa58fc5f",
   "metadata": {
    "id": "5z8nt9uSJkGr",
    "papermill": {
     "duration": 0.01277,
     "end_time": "2024-08-07T16:24:46.513947",
     "exception": false,
     "start_time": "2024-08-07T16:24:46.501177",
     "status": "completed"
    },
    "tags": []
   },
   "source": [
    "# Facial Expression Recognition Using CNN"
   ]
  },
  {
   "cell_type": "markdown",
   "id": "81182be8",
   "metadata": {
    "id": "ITK54PhVBAry",
    "papermill": {
     "duration": 0.01167,
     "end_time": "2024-08-07T16:24:46.537983",
     "exception": false,
     "start_time": "2024-08-07T16:24:46.526313",
     "status": "completed"
    },
    "tags": []
   },
   "source": [
    "Facial Expression Recognition using **Convolutional Neural Network** explores interpreting human emotions from images. This tutorial guides through dataset exploration, model building, training, and evaluation. Learn to design a convolutional neural network, train it to recognize emotions like happiness and sadness, and deploy it for real-world applications. Let's embark on this exciting journey!"
   ]
  },
  {
   "cell_type": "markdown",
   "id": "fc03fc37",
   "metadata": {
    "id": "cMRASQYfBhXM",
    "papermill": {
     "duration": 0.011591,
     "end_time": "2024-08-07T16:24:46.561468",
     "exception": false,
     "start_time": "2024-08-07T16:24:46.549877",
     "status": "completed"
    },
    "tags": []
   },
   "source": [
    "### **Imports Libararies**.\n",
    "\n",
    "Imports necessary libraries for building and training a convolutional neural network (CNN) for facial expression recognition.\n",
    "\n",
    "- `os`: Provides functions for interacting with the operating system, useful for file operations.\n",
    "- `cv2`: OpenCV library for computer vision tasks, used here for image processing.\n",
    "- `numpy`: Library for numerical computing, used for array operations.\n",
    "- `tensorflow`: TensorFlow library for deep learning.\n",
    "- `train_test_split` from `sklearn.model_selection`: Splits data into training and testing sets.\n",
    "- `ImageDataGenerator` from `tensorflow.keras.preprocessing.image`: Generates batches of augmented data.\n",
    "- `LabelEncoder` from `sklearn.preprocessing`: Encodes target labels with values between 0 and n_classes-1.\n",
    "- `to_categorical` from `keras.utils`: Converts class vector (integers) to binary class matrix.\n",
    "- `Sequential` from `keras.models`: Linear stack of layers for building deep learning models.\n",
    "- `Dense`, `Conv2D`, `Dropout`, `BatchNormalization`, `MaxPooling2D`, `Flatten` from `keras.layers`: Different types of layers used in the CNN architecture.\n",
    "- Optimizers (`Adam`, `RMSprop`, `SGD`) from `keras.optimizers`: Algorithms used to update model weights during training.\n",
    "- `plt` from `matplotlib.pyplot`: Library for creating visualizations, used here for plotting training/validation curves.\n",
    "- Callbacks (`ModelCheckpoint`, `EarlyStopping`, `ReduceLROnPlateau`) from `keras.callbacks`: Functions called during training at certain points to improve model performance or handle training interruptions."
   ]
  },
  {
   "cell_type": "code",
   "execution_count": 1,
   "id": "c5b5961f",
   "metadata": {
    "execution": {
     "iopub.execute_input": "2024-08-07T16:24:46.587687Z",
     "iopub.status.busy": "2024-08-07T16:24:46.587301Z",
     "iopub.status.idle": "2024-08-07T16:25:00.092146Z",
     "shell.execute_reply": "2024-08-07T16:25:00.091344Z"
    },
    "id": "fDYyQlK_iMSL",
    "papermill": {
     "duration": 13.521148,
     "end_time": "2024-08-07T16:25:00.094504",
     "exception": false,
     "start_time": "2024-08-07T16:24:46.573356",
     "status": "completed"
    },
    "tags": []
   },
   "outputs": [
    {
     "name": "stderr",
     "output_type": "stream",
     "text": [
      "2024-08-07 16:24:48.520444: E external/local_xla/xla/stream_executor/cuda/cuda_dnn.cc:9261] Unable to register cuDNN factory: Attempting to register factory for plugin cuDNN when one has already been registered\n",
      "2024-08-07 16:24:48.520555: E external/local_xla/xla/stream_executor/cuda/cuda_fft.cc:607] Unable to register cuFFT factory: Attempting to register factory for plugin cuFFT when one has already been registered\n",
      "2024-08-07 16:24:48.654692: E external/local_xla/xla/stream_executor/cuda/cuda_blas.cc:1515] Unable to register cuBLAS factory: Attempting to register factory for plugin cuBLAS when one has already been registered\n"
     ]
    }
   ],
   "source": [
    "import os\n",
    "import cv2\n",
    "import numpy as np\n",
    "import tensorflow\n",
    "from sklearn.model_selection import train_test_split\n",
    "from tensorflow.keras.preprocessing.image import ImageDataGenerator\n",
    "from sklearn.preprocessing import LabelEncoder\n",
    "from keras.utils import to_categorical\n",
    "from keras.models import Sequential\n",
    "from keras.layers import Dense, Conv2D, Dropout, BatchNormalization, MaxPooling2D, Flatten\n",
    "from keras.optimizers import Adam, RMSprop, SGD\n",
    "import matplotlib.pyplot as plt\n",
    "from keras.callbacks import ModelCheckpoint, EarlyStopping, ReduceLROnPlateau"
   ]
  },
  {
   "cell_type": "markdown",
   "id": "803f38e0",
   "metadata": {
    "id": "dTA20-1iB4I6",
    "papermill": {
     "duration": 0.011488,
     "end_time": "2024-08-07T16:25:00.118368",
     "exception": false,
     "start_time": "2024-08-07T16:25:00.106880",
     "status": "completed"
    },
    "tags": []
   },
   "source": [
    "The variable `data_dir` specifies the directory where the dataset is located. In this case, it is set to \"/content/images/train\". This directory likely contains subdirectories with images organized into different classes or categories, such as different facial expressions. The images in these subdirectories will be used for training the facial expression recognition model."
   ]
  },
  {
   "cell_type": "code",
   "execution_count": 2,
   "id": "e91a0341",
   "metadata": {
    "execution": {
     "iopub.execute_input": "2024-08-07T16:25:00.143346Z",
     "iopub.status.busy": "2024-08-07T16:25:00.142524Z",
     "iopub.status.idle": "2024-08-07T16:25:00.146850Z",
     "shell.execute_reply": "2024-08-07T16:25:00.145972Z"
    },
    "id": "Q9L2Lx6dib9F",
    "papermill": {
     "duration": 0.018751,
     "end_time": "2024-08-07T16:25:00.148677",
     "exception": false,
     "start_time": "2024-08-07T16:25:00.129926",
     "status": "completed"
    },
    "tags": []
   },
   "outputs": [],
   "source": [
    "# Dataset Directory\n",
    "data_dir = \"/kaggle/input/face-expression-recognition-dataset/images/train\"\n"
   ]
  },
  {
   "cell_type": "markdown",
   "id": "f96c0126",
   "metadata": {
    "id": "zzHAKoVmCrjB",
    "papermill": {
     "duration": 0.011716,
     "end_time": "2024-08-07T16:25:00.172120",
     "exception": false,
     "start_time": "2024-08-07T16:25:00.160404",
     "status": "completed"
    },
    "tags": []
   },
   "source": [
    "The variable `sub_folders` is assigned the list of subdirectories within the dataset directory `data_dir`. These subdirectories represent different classes or categories of data, such as different facial expressions. Each subdirectory contains images corresponding to the respective class."
   ]
  },
  {
   "cell_type": "code",
   "execution_count": 3,
   "id": "daadab11",
   "metadata": {
    "execution": {
     "iopub.execute_input": "2024-08-07T16:25:00.197136Z",
     "iopub.status.busy": "2024-08-07T16:25:00.196790Z",
     "iopub.status.idle": "2024-08-07T16:25:00.204790Z",
     "shell.execute_reply": "2024-08-07T16:25:00.204091Z"
    },
    "id": "gWafwx62ilRE",
    "papermill": {
     "duration": 0.022808,
     "end_time": "2024-08-07T16:25:00.206799",
     "exception": false,
     "start_time": "2024-08-07T16:25:00.183991",
     "status": "completed"
    },
    "tags": []
   },
   "outputs": [],
   "source": [
    "# Classes\n",
    "sub_folders = os.listdir(data_dir)"
   ]
  },
  {
   "cell_type": "markdown",
   "id": "19e9cd3f",
   "metadata": {
    "id": "VZc55z9ZDA62",
    "papermill": {
     "duration": 0.011645,
     "end_time": "2024-08-07T16:25:00.230328",
     "exception": false,
     "start_time": "2024-08-07T16:25:00.218683",
     "status": "completed"
    },
    "tags": []
   },
   "source": [
    "Two lists, `images` and `labels`, are declared to store the image data and corresponding labels, respectively. These lists will be populated during the data loading process, where images from each class are read and appended to the `images` list, while their corresponding labels are appended to the `labels` list."
   ]
  },
  {
   "cell_type": "code",
   "execution_count": 4,
   "id": "0f87b8b1",
   "metadata": {
    "execution": {
     "iopub.execute_input": "2024-08-07T16:25:00.255703Z",
     "iopub.status.busy": "2024-08-07T16:25:00.255362Z",
     "iopub.status.idle": "2024-08-07T16:25:00.259548Z",
     "shell.execute_reply": "2024-08-07T16:25:00.258644Z"
    },
    "id": "OBRZU_fzisqq",
    "papermill": {
     "duration": 0.01911,
     "end_time": "2024-08-07T16:25:00.261467",
     "exception": false,
     "start_time": "2024-08-07T16:25:00.242357",
     "status": "completed"
    },
    "tags": []
   },
   "outputs": [],
   "source": [
    "# Declaring the lists for images and labels\n",
    "images = []\n",
    "labels = []"
   ]
  },
  {
   "cell_type": "markdown",
   "id": "2bc0c0bd",
   "metadata": {
    "id": "ueels922DU6a",
    "papermill": {
     "duration": 0.011415,
     "end_time": "2024-08-07T16:25:00.284569",
     "exception": false,
     "start_time": "2024-08-07T16:25:00.273154",
     "status": "completed"
    },
    "tags": []
   },
   "source": [
    "This code snippet iterates through each sub-folder in the `sub_folders` list, representing different classes or labels. It then accesses the images within each sub-folder, reads them using OpenCV, and appends them to the `images` list. Additionally, it appends the corresponding label (the name of the sub-folder) to the `labels` list."
   ]
  },
  {
   "cell_type": "code",
   "execution_count": 5,
   "id": "87ef387d",
   "metadata": {
    "execution": {
     "iopub.execute_input": "2024-08-07T16:25:00.308908Z",
     "iopub.status.busy": "2024-08-07T16:25:00.308638Z",
     "iopub.status.idle": "2024-08-07T16:26:32.095669Z",
     "shell.execute_reply": "2024-08-07T16:26:32.094832Z"
    },
    "id": "6N7TZ54civYK",
    "papermill": {
     "duration": 91.801844,
     "end_time": "2024-08-07T16:26:32.098026",
     "exception": false,
     "start_time": "2024-08-07T16:25:00.296182",
     "status": "completed"
    },
    "tags": []
   },
   "outputs": [],
   "source": [
    "# Accessing the labels\n",
    "for sub_folder in sub_folders:\n",
    "    label = sub_folder\n",
    "\n",
    "    # Constructing the path to the current sub-folder\n",
    "    path = os.path.join(data_dir, sub_folder)\n",
    "\n",
    "    # Listing all images in the current sub-folder\n",
    "    sub_folder_images = os.listdir(path)\n",
    "\n",
    "    # Accessing the Images\n",
    "    for image_name in sub_folder_images:\n",
    "        # Constructing the path to the current image\n",
    "        image_path = os.path.join(path, image_name)\n",
    "        # Loading the image using OpenCV\n",
    "        img = cv2.imread(image_path, cv2.IMREAD_GRAYSCALE)  # Read as grayscale\n",
    "        # Appending the image to the list of images\n",
    "        images.append(img)\n",
    "        # Appending the label corresponding to the current sub-folder to the list of labels\n",
    "        labels.append(label)"
   ]
  },
  {
   "cell_type": "markdown",
   "id": "9b37e4c2",
   "metadata": {
    "id": "FEbz7QjjDkQg",
    "papermill": {
     "duration": 0.01178,
     "end_time": "2024-08-07T16:26:32.122094",
     "exception": false,
     "start_time": "2024-08-07T16:26:32.110314",
     "status": "completed"
    },
    "tags": []
   },
   "source": [
    "The lists of images and labels are converted to NumPy arrays using the `np.array()` function. This conversion is necessary for further processing and compatibility with deep learning frameworks like TensorFlow and Keras."
   ]
  },
  {
   "cell_type": "code",
   "execution_count": 6,
   "id": "28dbe281",
   "metadata": {
    "execution": {
     "iopub.execute_input": "2024-08-07T16:26:32.147174Z",
     "iopub.status.busy": "2024-08-07T16:26:32.146595Z",
     "iopub.status.idle": "2024-08-07T16:26:32.210121Z",
     "shell.execute_reply": "2024-08-07T16:26:32.209098Z"
    },
    "id": "t3ehOepji55a",
    "papermill": {
     "duration": 0.078528,
     "end_time": "2024-08-07T16:26:32.212244",
     "exception": false,
     "start_time": "2024-08-07T16:26:32.133716",
     "status": "completed"
    },
    "tags": []
   },
   "outputs": [
    {
     "name": "stdout",
     "output_type": "stream",
     "text": [
      "28821\n"
     ]
    }
   ],
   "source": [
    "# Converting the lists of images and labels to NumPy arrays\n",
    "images = np.array(images)\n",
    "labels = np.array(labels)\n",
    "print(len(images))"
   ]
  },
  {
   "cell_type": "markdown",
   "id": "2935ac79",
   "metadata": {
    "id": "XWRd7o4aDxIw",
    "papermill": {
     "duration": 0.011653,
     "end_time": "2024-08-07T16:26:32.236038",
     "exception": false,
     "start_time": "2024-08-07T16:26:32.224385",
     "status": "completed"
    },
    "tags": []
   },
   "source": [
    "The dataset is split into training, validation, and test sets using the `train_test_split` function from scikit-learn.\n",
    "\n",
    "- `X_train`, `y_train`: Training images and labels.\n",
    "- `X_val`, `y_val`: Validation images and labels.\n",
    "- `X_test`, `y_test`: Test images and labels.\n",
    "\n",
    "The dataset is split with a test size of 20% and a validation size of 10% of the original dataset. The `random_state` parameter ensures reproducibility of the split."
   ]
  },
  {
   "cell_type": "code",
   "execution_count": 7,
   "id": "222d259d",
   "metadata": {
    "execution": {
     "iopub.execute_input": "2024-08-07T16:26:32.261277Z",
     "iopub.status.busy": "2024-08-07T16:26:32.260855Z",
     "iopub.status.idle": "2024-08-07T16:26:32.312739Z",
     "shell.execute_reply": "2024-08-07T16:26:32.311910Z"
    },
    "id": "3RlIsHBIi9fQ",
    "papermill": {
     "duration": 0.067279,
     "end_time": "2024-08-07T16:26:32.315098",
     "exception": false,
     "start_time": "2024-08-07T16:26:32.247819",
     "status": "completed"
    },
    "tags": []
   },
   "outputs": [],
   "source": [
    "# Splitting Dataset into training, validation, and test sets\n",
    "X_train, X_test, y_train, y_test = train_test_split(\n",
    "    images, labels, test_size=0.2, random_state=42)\n",
    "\n",
    "X_train, X_val, y_train, y_val = train_test_split(\n",
    "    X_train, y_train, test_size=0.1, random_state=42)"
   ]
  },
  {
   "cell_type": "markdown",
   "id": "fd64f7d2",
   "metadata": {
    "id": "pkaWQ0_WD6iH",
    "papermill": {
     "duration": 0.011466,
     "end_time": "2024-08-07T16:26:32.338682",
     "exception": false,
     "start_time": "2024-08-07T16:26:32.327216",
     "status": "completed"
    },
    "tags": []
   },
   "source": [
    "The `preprocessing` function is defined to preprocess the input images before feeding them into the neural network model.\n",
    "\n",
    "- Normalize the pixel values by dividing each pixel by 255.0, which scales the pixel values to the range [0, 1].\n",
    "- Resize the image to a fixed size of 48x48 pixels using OpenCV's `resize` function.\n",
    "- Reshape the image array to match the input shape expected by the neural network model. The shape is `(batch_size, height, width, channels)`, where `batch_size` is set to `-1` to indicate a dynamic batch size, and `channels` is set to 1 for grayscale images."
   ]
  },
  {
   "cell_type": "code",
   "execution_count": 8,
   "id": "e610e156",
   "metadata": {
    "execution": {
     "iopub.execute_input": "2024-08-07T16:26:32.363215Z",
     "iopub.status.busy": "2024-08-07T16:26:32.362885Z",
     "iopub.status.idle": "2024-08-07T16:26:32.367654Z",
     "shell.execute_reply": "2024-08-07T16:26:32.366795Z"
    },
    "id": "W-QcvS5EjA8z",
    "papermill": {
     "duration": 0.019221,
     "end_time": "2024-08-07T16:26:32.369583",
     "exception": false,
     "start_time": "2024-08-07T16:26:32.350362",
     "status": "completed"
    },
    "tags": []
   },
   "outputs": [],
   "source": [
    "# Preprocess the image\n",
    "def preprocessing(img):\n",
    "    img = img / 255.0\n",
    "    img = cv2.resize(img, (48, 48))\n",
    "    return img.reshape(-1, 48, 48, 1)  # Reshape to match input shape"
   ]
  },
  {
   "cell_type": "markdown",
   "id": "e4e9e150",
   "metadata": {
    "id": "NHQ6x-hUEKrM",
    "papermill": {
     "duration": 0.011881,
     "end_time": "2024-08-07T16:26:32.393221",
     "exception": false,
     "start_time": "2024-08-07T16:26:32.381340",
     "status": "completed"
    },
    "tags": []
   },
   "source": [
    "The code snippet applies the `preprocessing` function to each image in the training, validation, and test sets using the `map` function, and then converts the resulting list of preprocessed images into NumPy arrays.\n",
    "\n",
    "- `map(preprocessing, X_train)`: Applies the `preprocessing` function to each image in `X_train`.\n",
    "- `list(map(...))`: Converts the map object to a list.\n",
    "- `np.array(...)`: Converts the list of preprocessed images to a NumPy array."
   ]
  },
  {
   "cell_type": "code",
   "execution_count": 9,
   "id": "b57ab06e",
   "metadata": {
    "execution": {
     "iopub.execute_input": "2024-08-07T16:26:32.418518Z",
     "iopub.status.busy": "2024-08-07T16:26:32.417604Z",
     "iopub.status.idle": "2024-08-07T16:26:33.110449Z",
     "shell.execute_reply": "2024-08-07T16:26:33.109430Z"
    },
    "id": "xYlF0AWcFFVD",
    "papermill": {
     "duration": 0.707956,
     "end_time": "2024-08-07T16:26:33.112821",
     "exception": false,
     "start_time": "2024-08-07T16:26:32.404865",
     "status": "completed"
    },
    "tags": []
   },
   "outputs": [],
   "source": [
    "# Apply preprocessing to training, validation, and test sets\n",
    "X_train = np.array(list(map(preprocessing, X_train)))\n",
    "X_val = np.array(list(map(preprocessing, X_val)))\n",
    "X_test = np.array(list(map(preprocessing, X_test)))"
   ]
  },
  {
   "cell_type": "markdown",
   "id": "732316d1",
   "metadata": {
    "id": "nhlFmsyUFMDy",
    "papermill": {
     "duration": 0.011881,
     "end_time": "2024-08-07T16:26:33.136743",
     "exception": false,
     "start_time": "2024-08-07T16:26:33.124862",
     "status": "completed"
    },
    "tags": []
   },
   "source": [
    "The code reshapes the input data arrays to remove an unnecessary dimension. Since the input shape expected by the neural network model is `(batch_size, height, width, channels)`, where `batch_size` represents the number of samples in each batch, the extra dimension is removed to ensure compatibility with the model architecture.\n",
    "\n",
    "- `reshape(-1, 48, 48, 1)`: Reshapes the input data arrays to have a shape of `(batch_size, 48, 48, 1)`, where `-1` indicates that the batch size is dynamically determined based on the number of samples."
   ]
  },
  {
   "cell_type": "code",
   "execution_count": 10,
   "id": "3c5ac30a",
   "metadata": {
    "execution": {
     "iopub.execute_input": "2024-08-07T16:26:33.162575Z",
     "iopub.status.busy": "2024-08-07T16:26:33.161739Z",
     "iopub.status.idle": "2024-08-07T16:26:33.166932Z",
     "shell.execute_reply": "2024-08-07T16:26:33.166038Z"
    },
    "id": "Mfe4OENojGZM",
    "papermill": {
     "duration": 0.020318,
     "end_time": "2024-08-07T16:26:33.168964",
     "exception": false,
     "start_time": "2024-08-07T16:26:33.148646",
     "status": "completed"
    },
    "tags": []
   },
   "outputs": [],
   "source": [
    "# Reshape input data to remove unnecessary dimension\n",
    "X_train = X_train.reshape(-1, 48, 48, 1)\n",
    "X_val = X_val.reshape(-1, 48, 48, 1)\n",
    "X_test = X_test.reshape(-1, 48, 48, 1)"
   ]
  },
  {
   "cell_type": "markdown",
   "id": "5d40b5a0",
   "metadata": {
    "id": "AYvdbcs0Fb_F",
    "papermill": {
     "duration": 0.011839,
     "end_time": "2024-08-07T16:26:33.237614",
     "exception": false,
     "start_time": "2024-08-07T16:26:33.225775",
     "status": "completed"
    },
    "tags": []
   },
   "source": [
    "The `ImageDataGenerator` object is initialized with various data augmentation parameters to augment the training images. Data augmentation is a technique used to artificially increase the size of the training dataset by applying random transformations to the images, which helps improve the model's generalization and robustness.\n",
    "\n",
    "- `width_shift_range`: Randomly shifts the width of the image by a fraction of its width.\n",
    "- `height_shift_range`: Randomly shifts the height of the image by a fraction of its height.\n",
    "- `zoom_range`: Randomly zooms into or out of the image.\n",
    "- `shear_range`: Randomly applies shear transformation to the image.\n",
    "- `rotation_range`: Randomly rotates the image by a specified angle range.\n",
    "\n",
    "The `fit()` method is then called on the `ImageDataGenerator` object to compute statistics necessary for data augmentation based on the training data."
   ]
  },
  {
   "cell_type": "code",
   "execution_count": 11,
   "id": "0cd6c494",
   "metadata": {
    "execution": {
     "iopub.execute_input": "2024-08-07T16:26:33.262986Z",
     "iopub.status.busy": "2024-08-07T16:26:33.262386Z",
     "iopub.status.idle": "2024-08-07T16:26:33.411705Z",
     "shell.execute_reply": "2024-08-07T16:26:33.410624Z"
    },
    "id": "amlCUHiVjMGx",
    "papermill": {
     "duration": 0.164918,
     "end_time": "2024-08-07T16:26:33.414402",
     "exception": false,
     "start_time": "2024-08-07T16:26:33.249484",
     "status": "completed"
    },
    "tags": []
   },
   "outputs": [],
   "source": [
    "# Initialize ImageDataGenerator for data augmentation\n",
    "data_gen = ImageDataGenerator(\n",
    "    width_shift_range=0.1,\n",
    "    height_shift_range=0.1,\n",
    "    zoom_range=0.1,\n",
    "    shear_range=0.1,\n",
    "    rotation_range=10\n",
    ")\n",
    "\n",
    "# Compute necessary statistics for data augmentation\n",
    "data_gen.fit(X_train)"
   ]
  },
  {
   "cell_type": "markdown",
   "id": "3abfd7f7",
   "metadata": {
    "id": "UXPB--KSFqvw",
    "papermill": {
     "duration": 0.011888,
     "end_time": "2024-08-07T16:26:33.439292",
     "exception": false,
     "start_time": "2024-08-07T16:26:33.427404",
     "status": "completed"
    },
    "tags": []
   },
   "source": [
    "The `LabelEncoder` object is initialized to encode the class labels into numerical values. This is necessary because machine learning models typically require numerical inputs. The `fit()` method is then called on the `LabelEncoder` object to fit the encoder to the array of class labels, enabling it to map class labels to numerical values."
   ]
  },
  {
   "cell_type": "code",
   "execution_count": 12,
   "id": "cd6a50bb",
   "metadata": {
    "execution": {
     "iopub.execute_input": "2024-08-07T16:26:33.464412Z",
     "iopub.status.busy": "2024-08-07T16:26:33.464049Z",
     "iopub.status.idle": "2024-08-07T16:26:33.477073Z",
     "shell.execute_reply": "2024-08-07T16:26:33.476187Z"
    },
    "id": "v-M6Td56jQnI",
    "outputId": "1f276d0c-d8bd-463e-b31b-03e37c060493",
    "papermill": {
     "duration": 0.027859,
     "end_time": "2024-08-07T16:26:33.478981",
     "exception": false,
     "start_time": "2024-08-07T16:26:33.451122",
     "status": "completed"
    },
    "tags": []
   },
   "outputs": [
    {
     "data": {
      "text/html": [
       "<style>#sk-container-id-1 {color: black;background-color: white;}#sk-container-id-1 pre{padding: 0;}#sk-container-id-1 div.sk-toggleable {background-color: white;}#sk-container-id-1 label.sk-toggleable__label {cursor: pointer;display: block;width: 100%;margin-bottom: 0;padding: 0.3em;box-sizing: border-box;text-align: center;}#sk-container-id-1 label.sk-toggleable__label-arrow:before {content: \"▸\";float: left;margin-right: 0.25em;color: #696969;}#sk-container-id-1 label.sk-toggleable__label-arrow:hover:before {color: black;}#sk-container-id-1 div.sk-estimator:hover label.sk-toggleable__label-arrow:before {color: black;}#sk-container-id-1 div.sk-toggleable__content {max-height: 0;max-width: 0;overflow: hidden;text-align: left;background-color: #f0f8ff;}#sk-container-id-1 div.sk-toggleable__content pre {margin: 0.2em;color: black;border-radius: 0.25em;background-color: #f0f8ff;}#sk-container-id-1 input.sk-toggleable__control:checked~div.sk-toggleable__content {max-height: 200px;max-width: 100%;overflow: auto;}#sk-container-id-1 input.sk-toggleable__control:checked~label.sk-toggleable__label-arrow:before {content: \"▾\";}#sk-container-id-1 div.sk-estimator input.sk-toggleable__control:checked~label.sk-toggleable__label {background-color: #d4ebff;}#sk-container-id-1 div.sk-label input.sk-toggleable__control:checked~label.sk-toggleable__label {background-color: #d4ebff;}#sk-container-id-1 input.sk-hidden--visually {border: 0;clip: rect(1px 1px 1px 1px);clip: rect(1px, 1px, 1px, 1px);height: 1px;margin: -1px;overflow: hidden;padding: 0;position: absolute;width: 1px;}#sk-container-id-1 div.sk-estimator {font-family: monospace;background-color: #f0f8ff;border: 1px dotted black;border-radius: 0.25em;box-sizing: border-box;margin-bottom: 0.5em;}#sk-container-id-1 div.sk-estimator:hover {background-color: #d4ebff;}#sk-container-id-1 div.sk-parallel-item::after {content: \"\";width: 100%;border-bottom: 1px solid gray;flex-grow: 1;}#sk-container-id-1 div.sk-label:hover label.sk-toggleable__label {background-color: #d4ebff;}#sk-container-id-1 div.sk-serial::before {content: \"\";position: absolute;border-left: 1px solid gray;box-sizing: border-box;top: 0;bottom: 0;left: 50%;z-index: 0;}#sk-container-id-1 div.sk-serial {display: flex;flex-direction: column;align-items: center;background-color: white;padding-right: 0.2em;padding-left: 0.2em;position: relative;}#sk-container-id-1 div.sk-item {position: relative;z-index: 1;}#sk-container-id-1 div.sk-parallel {display: flex;align-items: stretch;justify-content: center;background-color: white;position: relative;}#sk-container-id-1 div.sk-item::before, #sk-container-id-1 div.sk-parallel-item::before {content: \"\";position: absolute;border-left: 1px solid gray;box-sizing: border-box;top: 0;bottom: 0;left: 50%;z-index: -1;}#sk-container-id-1 div.sk-parallel-item {display: flex;flex-direction: column;z-index: 1;position: relative;background-color: white;}#sk-container-id-1 div.sk-parallel-item:first-child::after {align-self: flex-end;width: 50%;}#sk-container-id-1 div.sk-parallel-item:last-child::after {align-self: flex-start;width: 50%;}#sk-container-id-1 div.sk-parallel-item:only-child::after {width: 0;}#sk-container-id-1 div.sk-dashed-wrapped {border: 1px dashed gray;margin: 0 0.4em 0.5em 0.4em;box-sizing: border-box;padding-bottom: 0.4em;background-color: white;}#sk-container-id-1 div.sk-label label {font-family: monospace;font-weight: bold;display: inline-block;line-height: 1.2em;}#sk-container-id-1 div.sk-label-container {text-align: center;}#sk-container-id-1 div.sk-container {/* jupyter's `normalize.less` sets `[hidden] { display: none; }` but bootstrap.min.css set `[hidden] { display: none !important; }` so we also need the `!important` here to be able to override the default hidden behavior on the sphinx rendered scikit-learn.org. See: https://github.com/scikit-learn/scikit-learn/issues/21755 */display: inline-block !important;position: relative;}#sk-container-id-1 div.sk-text-repr-fallback {display: none;}</style><div id=\"sk-container-id-1\" class=\"sk-top-container\"><div class=\"sk-text-repr-fallback\"><pre>LabelEncoder()</pre><b>In a Jupyter environment, please rerun this cell to show the HTML representation or trust the notebook. <br />On GitHub, the HTML representation is unable to render, please try loading this page with nbviewer.org.</b></div><div class=\"sk-container\" hidden><div class=\"sk-item\"><div class=\"sk-estimator sk-toggleable\"><input class=\"sk-toggleable__control sk-hidden--visually\" id=\"sk-estimator-id-1\" type=\"checkbox\" checked><label for=\"sk-estimator-id-1\" class=\"sk-toggleable__label sk-toggleable__label-arrow\">LabelEncoder</label><div class=\"sk-toggleable__content\"><pre>LabelEncoder()</pre></div></div></div></div></div>"
      ],
      "text/plain": [
       "LabelEncoder()"
      ]
     },
     "execution_count": 12,
     "metadata": {},
     "output_type": "execute_result"
    }
   ],
   "source": [
    "# Encode the class labels\n",
    "label_encoder = LabelEncoder()\n",
    "label_encoder.fit(labels)"
   ]
  },
  {
   "cell_type": "markdown",
   "id": "37566801",
   "metadata": {
    "id": "ruMxfBiSF33b",
    "papermill": {
     "duration": 0.011996,
     "end_time": "2024-08-07T16:26:33.503195",
     "exception": false,
     "start_time": "2024-08-07T16:26:33.491199",
     "status": "completed"
    },
    "tags": []
   },
   "source": [
    "The class labels for the training, validation, and test sets are encoded using the `transform()` method of the `LabelEncoder` object initialized earlier. This method maps the class labels to their corresponding numerical values as determined during the fitting process."
   ]
  },
  {
   "cell_type": "code",
   "execution_count": 13,
   "id": "c769a129",
   "metadata": {
    "execution": {
     "iopub.execute_input": "2024-08-07T16:26:33.528754Z",
     "iopub.status.busy": "2024-08-07T16:26:33.528458Z",
     "iopub.status.idle": "2024-08-07T16:26:33.552797Z",
     "shell.execute_reply": "2024-08-07T16:26:33.551890Z"
    },
    "id": "5-hx7_s8jTZb",
    "papermill": {
     "duration": 0.039299,
     "end_time": "2024-08-07T16:26:33.554773",
     "exception": false,
     "start_time": "2024-08-07T16:26:33.515474",
     "status": "completed"
    },
    "tags": []
   },
   "outputs": [],
   "source": [
    "# Encode the class labels for training, validation, and test sets\n",
    "y_train = label_encoder.transform(y_train)\n",
    "y_val = label_encoder.transform(y_val)\n",
    "y_test = label_encoder.transform(y_test)"
   ]
  },
  {
   "cell_type": "markdown",
   "id": "2c95e095",
   "metadata": {
    "id": "7gVmDiaoGHLh",
    "papermill": {
     "duration": 0.012041,
     "end_time": "2024-08-07T16:26:33.579227",
     "exception": false,
     "start_time": "2024-08-07T16:26:33.567186",
     "status": "completed"
    },
    "tags": []
   },
   "source": [
    "The variable `num_classes` is assigned the number of unique classes in the dataset, which is determined by the length of the `classes_` attribute of the `LabelEncoder` object.\n",
    "\n",
    "The `to_categorical()` function is then used to convert the encoded class labels into one-hot encoded categorical arrays. This transformation is necessary for multi-class classification tasks, where each class label is represented as a binary vector with a 1 in the position corresponding to the class index and 0s elsewhere."
   ]
  },
  {
   "cell_type": "code",
   "execution_count": 14,
   "id": "c0116887",
   "metadata": {
    "execution": {
     "iopub.execute_input": "2024-08-07T16:26:33.605188Z",
     "iopub.status.busy": "2024-08-07T16:26:33.604773Z",
     "iopub.status.idle": "2024-08-07T16:26:33.611265Z",
     "shell.execute_reply": "2024-08-07T16:26:33.610367Z"
    },
    "id": "Pccke-XUjVeQ",
    "papermill": {
     "duration": 0.021832,
     "end_time": "2024-08-07T16:26:33.613203",
     "exception": false,
     "start_time": "2024-08-07T16:26:33.591371",
     "status": "completed"
    },
    "tags": []
   },
   "outputs": [],
   "source": [
    "# Get the number of classes\n",
    "num_classes = len(label_encoder.classes_)\n",
    "\n",
    "# Convert encoded class labels to one-hot encoded categorical arrays\n",
    "y_train_categorical = to_categorical(y_train, num_classes=num_classes)\n",
    "y_val_categorical = to_categorical(y_val, num_classes=num_classes)\n",
    "y_test_categorical = to_categorical(y_test, num_classes=num_classes)"
   ]
  },
  {
   "cell_type": "markdown",
   "id": "0de1dac5",
   "metadata": {
    "id": "nwv0iuDjGeHw",
    "papermill": {
     "duration": 0.012108,
     "end_time": "2024-08-07T16:26:33.637492",
     "exception": false,
     "start_time": "2024-08-07T16:26:33.625384",
     "status": "completed"
    },
    "tags": []
   },
   "source": [
    "The `build_model` function defines the architecture of the convolutional neural network (CNN) for facial expression recognition.\n",
    "\n",
    "- **1st Layer**: Convolutional layer with 64 filters of size (5, 5), ReLU activation, and batch normalization. MaxPooling and Dropout layers are added for regularization.\n",
    "\n",
    "- **2nd Layer**: Convolutional layer with 128 filters of size (3, 3), ReLU activation, and batch normalization. MaxPooling and Dropout layers are added for regularization.\n",
    "\n",
    "- **3rd Layer**: Convolutional layer with 512 filters of size (3, 3), ReLU activation, and batch normalization. MaxPooling and Dropout layers are added for regularization.\n",
    "\n",
    "- **4th Layer**: Convolutional layer with 512 filters of size (3, 3), ReLU activation, and batch normalization. MaxPooling and Dropout layers are added for regularization.\n",
    "\n",
    "- **Flatten Layer**: Flatten the output from the convolutional layers to be fed into the fully connected layers.\n",
    "\n",
    "- **Fully Connected Layer 1**: Dense layer with 256 units and ReLU activation, followed by batch normalization and dropout for regularization.\n",
    "\n",
    "- **Fully Connected Layer 2**: Dense layer with 512 units and ReLU activation, followed by batch normalization and dropout for regularization.\n",
    "\n",
    "- **Output Layer**: Dense layer with softmax activation for multi-class classification, with the number of units equal to the number of classes in the dataset.\n",
    "\n",
    "- **Compilation**: The model is compiled with the Adam optimizer, categorical cross-entropy loss function, and accuracy metric."
   ]
  },
  {
   "cell_type": "code",
   "execution_count": 15,
   "id": "60e946cb",
   "metadata": {
    "execution": {
     "iopub.execute_input": "2024-08-07T16:26:33.663725Z",
     "iopub.status.busy": "2024-08-07T16:26:33.662887Z",
     "iopub.status.idle": "2024-08-07T16:26:33.675827Z",
     "shell.execute_reply": "2024-08-07T16:26:33.674961Z"
    },
    "id": "ebDumsoOjZJC",
    "papermill": {
     "duration": 0.02804,
     "end_time": "2024-08-07T16:26:33.677708",
     "exception": false,
     "start_time": "2024-08-07T16:26:33.649668",
     "status": "completed"
    },
    "tags": []
   },
   "outputs": [],
   "source": [
    "# Building Model\n",
    "def build_model():\n",
    "    model = Sequential()\n",
    "    # 1st Layer\n",
    "    model.add(Conv2D(64, (5, 5), strides=(1, 1), padding='same', activation='relu', input_shape=(48, 48, 1)))\n",
    "    model.add(BatchNormalization())\n",
    "    model.add(MaxPooling2D(2, 2))\n",
    "    model.add(Dropout(0.3))\n",
    "\n",
    "    # 2nd Layer\n",
    "    model.add(Conv2D(128, (3, 3), strides=(1, 1), padding='same', activation='relu'))\n",
    "    model.add(BatchNormalization())\n",
    "    model.add(MaxPooling2D(2, 2))\n",
    "    model.add(Dropout(0.3))\n",
    "\n",
    "    # 3rd layer\n",
    "    model.add(Conv2D(512, (3, 3), strides=(1, 1), padding='same', activation='relu'))\n",
    "    model.add(BatchNormalization())\n",
    "    model.add(MaxPooling2D(2, 2))\n",
    "    model.add(Dropout(0.3))\n",
    "\n",
    "    # 4th layer\n",
    "    model.add(Conv2D(512, (3, 3), strides=(1, 1), padding='same', activation='relu'))\n",
    "    model.add(BatchNormalization())\n",
    "    model.add(MaxPooling2D(2, 2))\n",
    "    model.add(Dropout(0.3))\n",
    "\n",
    "    # Flatten Layer\n",
    "    model.add(Flatten())\n",
    "\n",
    "    # Fully connected layer 1\n",
    "    model.add(Dense(256, activation='relu'))\n",
    "    model.add(BatchNormalization())\n",
    "    model.add(Dropout(0.3))\n",
    "\n",
    "    # Fully connected layer 2\n",
    "    model.add(Dense(512, activation='relu'))\n",
    "    model.add(BatchNormalization())\n",
    "    model.add(Dropout(0.3))\n",
    "\n",
    "    # Output layer\n",
    "    model.add(Dense(num_classes, activation='softmax'))\n",
    "\n",
    "    # Compiling the model\n",
    "    model.compile(optimizer=Adam(learning_rate=0.001), loss='categorical_crossentropy', metrics=['accuracy'])\n",
    "\n",
    "    return model"
   ]
  },
  {
   "cell_type": "markdown",
   "id": "a36fbc14",
   "metadata": {
    "id": "I3CiJpP4GvHS",
    "papermill": {
     "duration": 0.011854,
     "end_time": "2024-08-07T16:26:33.701551",
     "exception": false,
     "start_time": "2024-08-07T16:26:33.689697",
     "status": "completed"
    },
    "tags": []
   },
   "source": [
    "The `summary()` method is called on the built model to display a summary of its architecture, including the layers, output shapes, and the number of trainable parameters."
   ]
  },
  {
   "cell_type": "code",
   "execution_count": 16,
   "id": "2fbcf23b",
   "metadata": {
    "execution": {
     "iopub.execute_input": "2024-08-07T16:26:33.726989Z",
     "iopub.status.busy": "2024-08-07T16:26:33.726472Z",
     "iopub.status.idle": "2024-08-07T16:26:34.987226Z",
     "shell.execute_reply": "2024-08-07T16:26:34.986348Z"
    },
    "id": "St5xjbyDjjGq",
    "outputId": "07d1de3b-433f-46d9-da1c-4059271ff085",
    "papermill": {
     "duration": 1.276243,
     "end_time": "2024-08-07T16:26:34.989856",
     "exception": false,
     "start_time": "2024-08-07T16:26:33.713613",
     "status": "completed"
    },
    "tags": []
   },
   "outputs": [
    {
     "name": "stderr",
     "output_type": "stream",
     "text": [
      "/opt/conda/lib/python3.10/site-packages/keras/src/layers/convolutional/base_conv.py:107: UserWarning: Do not pass an `input_shape`/`input_dim` argument to a layer. When using Sequential models, prefer using an `Input(shape)` object as the first layer in the model instead.\n",
      "  super().__init__(activity_regularizer=activity_regularizer, **kwargs)\n"
     ]
    },
    {
     "data": {
      "text/html": [
       "<pre style=\"white-space:pre;overflow-x:auto;line-height:normal;font-family:Menlo,'DejaVu Sans Mono',consolas,'Courier New',monospace\"><span style=\"font-weight: bold\">Model: \"sequential\"</span>\n",
       "</pre>\n"
      ],
      "text/plain": [
       "\u001b[1mModel: \"sequential\"\u001b[0m\n"
      ]
     },
     "metadata": {},
     "output_type": "display_data"
    },
    {
     "data": {
      "text/html": [
       "<pre style=\"white-space:pre;overflow-x:auto;line-height:normal;font-family:Menlo,'DejaVu Sans Mono',consolas,'Courier New',monospace\">┏━━━━━━━━━━━━━━━━━━━━━━━━━━━━━━━━━┳━━━━━━━━━━━━━━━━━━━━━━━━┳━━━━━━━━━━━━━━━┓\n",
       "┃<span style=\"font-weight: bold\"> Layer (type)                    </span>┃<span style=\"font-weight: bold\"> Output Shape           </span>┃<span style=\"font-weight: bold\">       Param # </span>┃\n",
       "┡━━━━━━━━━━━━━━━━━━━━━━━━━━━━━━━━━╇━━━━━━━━━━━━━━━━━━━━━━━━╇━━━━━━━━━━━━━━━┩\n",
       "│ conv2d (<span style=\"color: #0087ff; text-decoration-color: #0087ff\">Conv2D</span>)                 │ (<span style=\"color: #00d7ff; text-decoration-color: #00d7ff\">None</span>, <span style=\"color: #00af00; text-decoration-color: #00af00\">48</span>, <span style=\"color: #00af00; text-decoration-color: #00af00\">48</span>, <span style=\"color: #00af00; text-decoration-color: #00af00\">64</span>)     │         <span style=\"color: #00af00; text-decoration-color: #00af00\">1,664</span> │\n",
       "├─────────────────────────────────┼────────────────────────┼───────────────┤\n",
       "│ batch_normalization             │ (<span style=\"color: #00d7ff; text-decoration-color: #00d7ff\">None</span>, <span style=\"color: #00af00; text-decoration-color: #00af00\">48</span>, <span style=\"color: #00af00; text-decoration-color: #00af00\">48</span>, <span style=\"color: #00af00; text-decoration-color: #00af00\">64</span>)     │           <span style=\"color: #00af00; text-decoration-color: #00af00\">256</span> │\n",
       "│ (<span style=\"color: #0087ff; text-decoration-color: #0087ff\">BatchNormalization</span>)            │                        │               │\n",
       "├─────────────────────────────────┼────────────────────────┼───────────────┤\n",
       "│ max_pooling2d (<span style=\"color: #0087ff; text-decoration-color: #0087ff\">MaxPooling2D</span>)    │ (<span style=\"color: #00d7ff; text-decoration-color: #00d7ff\">None</span>, <span style=\"color: #00af00; text-decoration-color: #00af00\">24</span>, <span style=\"color: #00af00; text-decoration-color: #00af00\">24</span>, <span style=\"color: #00af00; text-decoration-color: #00af00\">64</span>)     │             <span style=\"color: #00af00; text-decoration-color: #00af00\">0</span> │\n",
       "├─────────────────────────────────┼────────────────────────┼───────────────┤\n",
       "│ dropout (<span style=\"color: #0087ff; text-decoration-color: #0087ff\">Dropout</span>)               │ (<span style=\"color: #00d7ff; text-decoration-color: #00d7ff\">None</span>, <span style=\"color: #00af00; text-decoration-color: #00af00\">24</span>, <span style=\"color: #00af00; text-decoration-color: #00af00\">24</span>, <span style=\"color: #00af00; text-decoration-color: #00af00\">64</span>)     │             <span style=\"color: #00af00; text-decoration-color: #00af00\">0</span> │\n",
       "├─────────────────────────────────┼────────────────────────┼───────────────┤\n",
       "│ conv2d_1 (<span style=\"color: #0087ff; text-decoration-color: #0087ff\">Conv2D</span>)               │ (<span style=\"color: #00d7ff; text-decoration-color: #00d7ff\">None</span>, <span style=\"color: #00af00; text-decoration-color: #00af00\">24</span>, <span style=\"color: #00af00; text-decoration-color: #00af00\">24</span>, <span style=\"color: #00af00; text-decoration-color: #00af00\">128</span>)    │        <span style=\"color: #00af00; text-decoration-color: #00af00\">73,856</span> │\n",
       "├─────────────────────────────────┼────────────────────────┼───────────────┤\n",
       "│ batch_normalization_1           │ (<span style=\"color: #00d7ff; text-decoration-color: #00d7ff\">None</span>, <span style=\"color: #00af00; text-decoration-color: #00af00\">24</span>, <span style=\"color: #00af00; text-decoration-color: #00af00\">24</span>, <span style=\"color: #00af00; text-decoration-color: #00af00\">128</span>)    │           <span style=\"color: #00af00; text-decoration-color: #00af00\">512</span> │\n",
       "│ (<span style=\"color: #0087ff; text-decoration-color: #0087ff\">BatchNormalization</span>)            │                        │               │\n",
       "├─────────────────────────────────┼────────────────────────┼───────────────┤\n",
       "│ max_pooling2d_1 (<span style=\"color: #0087ff; text-decoration-color: #0087ff\">MaxPooling2D</span>)  │ (<span style=\"color: #00d7ff; text-decoration-color: #00d7ff\">None</span>, <span style=\"color: #00af00; text-decoration-color: #00af00\">12</span>, <span style=\"color: #00af00; text-decoration-color: #00af00\">12</span>, <span style=\"color: #00af00; text-decoration-color: #00af00\">128</span>)    │             <span style=\"color: #00af00; text-decoration-color: #00af00\">0</span> │\n",
       "├─────────────────────────────────┼────────────────────────┼───────────────┤\n",
       "│ dropout_1 (<span style=\"color: #0087ff; text-decoration-color: #0087ff\">Dropout</span>)             │ (<span style=\"color: #00d7ff; text-decoration-color: #00d7ff\">None</span>, <span style=\"color: #00af00; text-decoration-color: #00af00\">12</span>, <span style=\"color: #00af00; text-decoration-color: #00af00\">12</span>, <span style=\"color: #00af00; text-decoration-color: #00af00\">128</span>)    │             <span style=\"color: #00af00; text-decoration-color: #00af00\">0</span> │\n",
       "├─────────────────────────────────┼────────────────────────┼───────────────┤\n",
       "│ conv2d_2 (<span style=\"color: #0087ff; text-decoration-color: #0087ff\">Conv2D</span>)               │ (<span style=\"color: #00d7ff; text-decoration-color: #00d7ff\">None</span>, <span style=\"color: #00af00; text-decoration-color: #00af00\">12</span>, <span style=\"color: #00af00; text-decoration-color: #00af00\">12</span>, <span style=\"color: #00af00; text-decoration-color: #00af00\">512</span>)    │       <span style=\"color: #00af00; text-decoration-color: #00af00\">590,336</span> │\n",
       "├─────────────────────────────────┼────────────────────────┼───────────────┤\n",
       "│ batch_normalization_2           │ (<span style=\"color: #00d7ff; text-decoration-color: #00d7ff\">None</span>, <span style=\"color: #00af00; text-decoration-color: #00af00\">12</span>, <span style=\"color: #00af00; text-decoration-color: #00af00\">12</span>, <span style=\"color: #00af00; text-decoration-color: #00af00\">512</span>)    │         <span style=\"color: #00af00; text-decoration-color: #00af00\">2,048</span> │\n",
       "│ (<span style=\"color: #0087ff; text-decoration-color: #0087ff\">BatchNormalization</span>)            │                        │               │\n",
       "├─────────────────────────────────┼────────────────────────┼───────────────┤\n",
       "│ max_pooling2d_2 (<span style=\"color: #0087ff; text-decoration-color: #0087ff\">MaxPooling2D</span>)  │ (<span style=\"color: #00d7ff; text-decoration-color: #00d7ff\">None</span>, <span style=\"color: #00af00; text-decoration-color: #00af00\">6</span>, <span style=\"color: #00af00; text-decoration-color: #00af00\">6</span>, <span style=\"color: #00af00; text-decoration-color: #00af00\">512</span>)      │             <span style=\"color: #00af00; text-decoration-color: #00af00\">0</span> │\n",
       "├─────────────────────────────────┼────────────────────────┼───────────────┤\n",
       "│ dropout_2 (<span style=\"color: #0087ff; text-decoration-color: #0087ff\">Dropout</span>)             │ (<span style=\"color: #00d7ff; text-decoration-color: #00d7ff\">None</span>, <span style=\"color: #00af00; text-decoration-color: #00af00\">6</span>, <span style=\"color: #00af00; text-decoration-color: #00af00\">6</span>, <span style=\"color: #00af00; text-decoration-color: #00af00\">512</span>)      │             <span style=\"color: #00af00; text-decoration-color: #00af00\">0</span> │\n",
       "├─────────────────────────────────┼────────────────────────┼───────────────┤\n",
       "│ conv2d_3 (<span style=\"color: #0087ff; text-decoration-color: #0087ff\">Conv2D</span>)               │ (<span style=\"color: #00d7ff; text-decoration-color: #00d7ff\">None</span>, <span style=\"color: #00af00; text-decoration-color: #00af00\">6</span>, <span style=\"color: #00af00; text-decoration-color: #00af00\">6</span>, <span style=\"color: #00af00; text-decoration-color: #00af00\">512</span>)      │     <span style=\"color: #00af00; text-decoration-color: #00af00\">2,359,808</span> │\n",
       "├─────────────────────────────────┼────────────────────────┼───────────────┤\n",
       "│ batch_normalization_3           │ (<span style=\"color: #00d7ff; text-decoration-color: #00d7ff\">None</span>, <span style=\"color: #00af00; text-decoration-color: #00af00\">6</span>, <span style=\"color: #00af00; text-decoration-color: #00af00\">6</span>, <span style=\"color: #00af00; text-decoration-color: #00af00\">512</span>)      │         <span style=\"color: #00af00; text-decoration-color: #00af00\">2,048</span> │\n",
       "│ (<span style=\"color: #0087ff; text-decoration-color: #0087ff\">BatchNormalization</span>)            │                        │               │\n",
       "├─────────────────────────────────┼────────────────────────┼───────────────┤\n",
       "│ max_pooling2d_3 (<span style=\"color: #0087ff; text-decoration-color: #0087ff\">MaxPooling2D</span>)  │ (<span style=\"color: #00d7ff; text-decoration-color: #00d7ff\">None</span>, <span style=\"color: #00af00; text-decoration-color: #00af00\">3</span>, <span style=\"color: #00af00; text-decoration-color: #00af00\">3</span>, <span style=\"color: #00af00; text-decoration-color: #00af00\">512</span>)      │             <span style=\"color: #00af00; text-decoration-color: #00af00\">0</span> │\n",
       "├─────────────────────────────────┼────────────────────────┼───────────────┤\n",
       "│ dropout_3 (<span style=\"color: #0087ff; text-decoration-color: #0087ff\">Dropout</span>)             │ (<span style=\"color: #00d7ff; text-decoration-color: #00d7ff\">None</span>, <span style=\"color: #00af00; text-decoration-color: #00af00\">3</span>, <span style=\"color: #00af00; text-decoration-color: #00af00\">3</span>, <span style=\"color: #00af00; text-decoration-color: #00af00\">512</span>)      │             <span style=\"color: #00af00; text-decoration-color: #00af00\">0</span> │\n",
       "├─────────────────────────────────┼────────────────────────┼───────────────┤\n",
       "│ flatten (<span style=\"color: #0087ff; text-decoration-color: #0087ff\">Flatten</span>)               │ (<span style=\"color: #00d7ff; text-decoration-color: #00d7ff\">None</span>, <span style=\"color: #00af00; text-decoration-color: #00af00\">4608</span>)           │             <span style=\"color: #00af00; text-decoration-color: #00af00\">0</span> │\n",
       "├─────────────────────────────────┼────────────────────────┼───────────────┤\n",
       "│ dense (<span style=\"color: #0087ff; text-decoration-color: #0087ff\">Dense</span>)                   │ (<span style=\"color: #00d7ff; text-decoration-color: #00d7ff\">None</span>, <span style=\"color: #00af00; text-decoration-color: #00af00\">256</span>)            │     <span style=\"color: #00af00; text-decoration-color: #00af00\">1,179,904</span> │\n",
       "├─────────────────────────────────┼────────────────────────┼───────────────┤\n",
       "│ batch_normalization_4           │ (<span style=\"color: #00d7ff; text-decoration-color: #00d7ff\">None</span>, <span style=\"color: #00af00; text-decoration-color: #00af00\">256</span>)            │         <span style=\"color: #00af00; text-decoration-color: #00af00\">1,024</span> │\n",
       "│ (<span style=\"color: #0087ff; text-decoration-color: #0087ff\">BatchNormalization</span>)            │                        │               │\n",
       "├─────────────────────────────────┼────────────────────────┼───────────────┤\n",
       "│ dropout_4 (<span style=\"color: #0087ff; text-decoration-color: #0087ff\">Dropout</span>)             │ (<span style=\"color: #00d7ff; text-decoration-color: #00d7ff\">None</span>, <span style=\"color: #00af00; text-decoration-color: #00af00\">256</span>)            │             <span style=\"color: #00af00; text-decoration-color: #00af00\">0</span> │\n",
       "├─────────────────────────────────┼────────────────────────┼───────────────┤\n",
       "│ dense_1 (<span style=\"color: #0087ff; text-decoration-color: #0087ff\">Dense</span>)                 │ (<span style=\"color: #00d7ff; text-decoration-color: #00d7ff\">None</span>, <span style=\"color: #00af00; text-decoration-color: #00af00\">512</span>)            │       <span style=\"color: #00af00; text-decoration-color: #00af00\">131,584</span> │\n",
       "├─────────────────────────────────┼────────────────────────┼───────────────┤\n",
       "│ batch_normalization_5           │ (<span style=\"color: #00d7ff; text-decoration-color: #00d7ff\">None</span>, <span style=\"color: #00af00; text-decoration-color: #00af00\">512</span>)            │         <span style=\"color: #00af00; text-decoration-color: #00af00\">2,048</span> │\n",
       "│ (<span style=\"color: #0087ff; text-decoration-color: #0087ff\">BatchNormalization</span>)            │                        │               │\n",
       "├─────────────────────────────────┼────────────────────────┼───────────────┤\n",
       "│ dropout_5 (<span style=\"color: #0087ff; text-decoration-color: #0087ff\">Dropout</span>)             │ (<span style=\"color: #00d7ff; text-decoration-color: #00d7ff\">None</span>, <span style=\"color: #00af00; text-decoration-color: #00af00\">512</span>)            │             <span style=\"color: #00af00; text-decoration-color: #00af00\">0</span> │\n",
       "├─────────────────────────────────┼────────────────────────┼───────────────┤\n",
       "│ dense_2 (<span style=\"color: #0087ff; text-decoration-color: #0087ff\">Dense</span>)                 │ (<span style=\"color: #00d7ff; text-decoration-color: #00d7ff\">None</span>, <span style=\"color: #00af00; text-decoration-color: #00af00\">7</span>)              │         <span style=\"color: #00af00; text-decoration-color: #00af00\">3,591</span> │\n",
       "└─────────────────────────────────┴────────────────────────┴───────────────┘\n",
       "</pre>\n"
      ],
      "text/plain": [
       "┏━━━━━━━━━━━━━━━━━━━━━━━━━━━━━━━━━┳━━━━━━━━━━━━━━━━━━━━━━━━┳━━━━━━━━━━━━━━━┓\n",
       "┃\u001b[1m \u001b[0m\u001b[1mLayer (type)                   \u001b[0m\u001b[1m \u001b[0m┃\u001b[1m \u001b[0m\u001b[1mOutput Shape          \u001b[0m\u001b[1m \u001b[0m┃\u001b[1m \u001b[0m\u001b[1m      Param #\u001b[0m\u001b[1m \u001b[0m┃\n",
       "┡━━━━━━━━━━━━━━━━━━━━━━━━━━━━━━━━━╇━━━━━━━━━━━━━━━━━━━━━━━━╇━━━━━━━━━━━━━━━┩\n",
       "│ conv2d (\u001b[38;5;33mConv2D\u001b[0m)                 │ (\u001b[38;5;45mNone\u001b[0m, \u001b[38;5;34m48\u001b[0m, \u001b[38;5;34m48\u001b[0m, \u001b[38;5;34m64\u001b[0m)     │         \u001b[38;5;34m1,664\u001b[0m │\n",
       "├─────────────────────────────────┼────────────────────────┼───────────────┤\n",
       "│ batch_normalization             │ (\u001b[38;5;45mNone\u001b[0m, \u001b[38;5;34m48\u001b[0m, \u001b[38;5;34m48\u001b[0m, \u001b[38;5;34m64\u001b[0m)     │           \u001b[38;5;34m256\u001b[0m │\n",
       "│ (\u001b[38;5;33mBatchNormalization\u001b[0m)            │                        │               │\n",
       "├─────────────────────────────────┼────────────────────────┼───────────────┤\n",
       "│ max_pooling2d (\u001b[38;5;33mMaxPooling2D\u001b[0m)    │ (\u001b[38;5;45mNone\u001b[0m, \u001b[38;5;34m24\u001b[0m, \u001b[38;5;34m24\u001b[0m, \u001b[38;5;34m64\u001b[0m)     │             \u001b[38;5;34m0\u001b[0m │\n",
       "├─────────────────────────────────┼────────────────────────┼───────────────┤\n",
       "│ dropout (\u001b[38;5;33mDropout\u001b[0m)               │ (\u001b[38;5;45mNone\u001b[0m, \u001b[38;5;34m24\u001b[0m, \u001b[38;5;34m24\u001b[0m, \u001b[38;5;34m64\u001b[0m)     │             \u001b[38;5;34m0\u001b[0m │\n",
       "├─────────────────────────────────┼────────────────────────┼───────────────┤\n",
       "│ conv2d_1 (\u001b[38;5;33mConv2D\u001b[0m)               │ (\u001b[38;5;45mNone\u001b[0m, \u001b[38;5;34m24\u001b[0m, \u001b[38;5;34m24\u001b[0m, \u001b[38;5;34m128\u001b[0m)    │        \u001b[38;5;34m73,856\u001b[0m │\n",
       "├─────────────────────────────────┼────────────────────────┼───────────────┤\n",
       "│ batch_normalization_1           │ (\u001b[38;5;45mNone\u001b[0m, \u001b[38;5;34m24\u001b[0m, \u001b[38;5;34m24\u001b[0m, \u001b[38;5;34m128\u001b[0m)    │           \u001b[38;5;34m512\u001b[0m │\n",
       "│ (\u001b[38;5;33mBatchNormalization\u001b[0m)            │                        │               │\n",
       "├─────────────────────────────────┼────────────────────────┼───────────────┤\n",
       "│ max_pooling2d_1 (\u001b[38;5;33mMaxPooling2D\u001b[0m)  │ (\u001b[38;5;45mNone\u001b[0m, \u001b[38;5;34m12\u001b[0m, \u001b[38;5;34m12\u001b[0m, \u001b[38;5;34m128\u001b[0m)    │             \u001b[38;5;34m0\u001b[0m │\n",
       "├─────────────────────────────────┼────────────────────────┼───────────────┤\n",
       "│ dropout_1 (\u001b[38;5;33mDropout\u001b[0m)             │ (\u001b[38;5;45mNone\u001b[0m, \u001b[38;5;34m12\u001b[0m, \u001b[38;5;34m12\u001b[0m, \u001b[38;5;34m128\u001b[0m)    │             \u001b[38;5;34m0\u001b[0m │\n",
       "├─────────────────────────────────┼────────────────────────┼───────────────┤\n",
       "│ conv2d_2 (\u001b[38;5;33mConv2D\u001b[0m)               │ (\u001b[38;5;45mNone\u001b[0m, \u001b[38;5;34m12\u001b[0m, \u001b[38;5;34m12\u001b[0m, \u001b[38;5;34m512\u001b[0m)    │       \u001b[38;5;34m590,336\u001b[0m │\n",
       "├─────────────────────────────────┼────────────────────────┼───────────────┤\n",
       "│ batch_normalization_2           │ (\u001b[38;5;45mNone\u001b[0m, \u001b[38;5;34m12\u001b[0m, \u001b[38;5;34m12\u001b[0m, \u001b[38;5;34m512\u001b[0m)    │         \u001b[38;5;34m2,048\u001b[0m │\n",
       "│ (\u001b[38;5;33mBatchNormalization\u001b[0m)            │                        │               │\n",
       "├─────────────────────────────────┼────────────────────────┼───────────────┤\n",
       "│ max_pooling2d_2 (\u001b[38;5;33mMaxPooling2D\u001b[0m)  │ (\u001b[38;5;45mNone\u001b[0m, \u001b[38;5;34m6\u001b[0m, \u001b[38;5;34m6\u001b[0m, \u001b[38;5;34m512\u001b[0m)      │             \u001b[38;5;34m0\u001b[0m │\n",
       "├─────────────────────────────────┼────────────────────────┼───────────────┤\n",
       "│ dropout_2 (\u001b[38;5;33mDropout\u001b[0m)             │ (\u001b[38;5;45mNone\u001b[0m, \u001b[38;5;34m6\u001b[0m, \u001b[38;5;34m6\u001b[0m, \u001b[38;5;34m512\u001b[0m)      │             \u001b[38;5;34m0\u001b[0m │\n",
       "├─────────────────────────────────┼────────────────────────┼───────────────┤\n",
       "│ conv2d_3 (\u001b[38;5;33mConv2D\u001b[0m)               │ (\u001b[38;5;45mNone\u001b[0m, \u001b[38;5;34m6\u001b[0m, \u001b[38;5;34m6\u001b[0m, \u001b[38;5;34m512\u001b[0m)      │     \u001b[38;5;34m2,359,808\u001b[0m │\n",
       "├─────────────────────────────────┼────────────────────────┼───────────────┤\n",
       "│ batch_normalization_3           │ (\u001b[38;5;45mNone\u001b[0m, \u001b[38;5;34m6\u001b[0m, \u001b[38;5;34m6\u001b[0m, \u001b[38;5;34m512\u001b[0m)      │         \u001b[38;5;34m2,048\u001b[0m │\n",
       "│ (\u001b[38;5;33mBatchNormalization\u001b[0m)            │                        │               │\n",
       "├─────────────────────────────────┼────────────────────────┼───────────────┤\n",
       "│ max_pooling2d_3 (\u001b[38;5;33mMaxPooling2D\u001b[0m)  │ (\u001b[38;5;45mNone\u001b[0m, \u001b[38;5;34m3\u001b[0m, \u001b[38;5;34m3\u001b[0m, \u001b[38;5;34m512\u001b[0m)      │             \u001b[38;5;34m0\u001b[0m │\n",
       "├─────────────────────────────────┼────────────────────────┼───────────────┤\n",
       "│ dropout_3 (\u001b[38;5;33mDropout\u001b[0m)             │ (\u001b[38;5;45mNone\u001b[0m, \u001b[38;5;34m3\u001b[0m, \u001b[38;5;34m3\u001b[0m, \u001b[38;5;34m512\u001b[0m)      │             \u001b[38;5;34m0\u001b[0m │\n",
       "├─────────────────────────────────┼────────────────────────┼───────────────┤\n",
       "│ flatten (\u001b[38;5;33mFlatten\u001b[0m)               │ (\u001b[38;5;45mNone\u001b[0m, \u001b[38;5;34m4608\u001b[0m)           │             \u001b[38;5;34m0\u001b[0m │\n",
       "├─────────────────────────────────┼────────────────────────┼───────────────┤\n",
       "│ dense (\u001b[38;5;33mDense\u001b[0m)                   │ (\u001b[38;5;45mNone\u001b[0m, \u001b[38;5;34m256\u001b[0m)            │     \u001b[38;5;34m1,179,904\u001b[0m │\n",
       "├─────────────────────────────────┼────────────────────────┼───────────────┤\n",
       "│ batch_normalization_4           │ (\u001b[38;5;45mNone\u001b[0m, \u001b[38;5;34m256\u001b[0m)            │         \u001b[38;5;34m1,024\u001b[0m │\n",
       "│ (\u001b[38;5;33mBatchNormalization\u001b[0m)            │                        │               │\n",
       "├─────────────────────────────────┼────────────────────────┼───────────────┤\n",
       "│ dropout_4 (\u001b[38;5;33mDropout\u001b[0m)             │ (\u001b[38;5;45mNone\u001b[0m, \u001b[38;5;34m256\u001b[0m)            │             \u001b[38;5;34m0\u001b[0m │\n",
       "├─────────────────────────────────┼────────────────────────┼───────────────┤\n",
       "│ dense_1 (\u001b[38;5;33mDense\u001b[0m)                 │ (\u001b[38;5;45mNone\u001b[0m, \u001b[38;5;34m512\u001b[0m)            │       \u001b[38;5;34m131,584\u001b[0m │\n",
       "├─────────────────────────────────┼────────────────────────┼───────────────┤\n",
       "│ batch_normalization_5           │ (\u001b[38;5;45mNone\u001b[0m, \u001b[38;5;34m512\u001b[0m)            │         \u001b[38;5;34m2,048\u001b[0m │\n",
       "│ (\u001b[38;5;33mBatchNormalization\u001b[0m)            │                        │               │\n",
       "├─────────────────────────────────┼────────────────────────┼───────────────┤\n",
       "│ dropout_5 (\u001b[38;5;33mDropout\u001b[0m)             │ (\u001b[38;5;45mNone\u001b[0m, \u001b[38;5;34m512\u001b[0m)            │             \u001b[38;5;34m0\u001b[0m │\n",
       "├─────────────────────────────────┼────────────────────────┼───────────────┤\n",
       "│ dense_2 (\u001b[38;5;33mDense\u001b[0m)                 │ (\u001b[38;5;45mNone\u001b[0m, \u001b[38;5;34m7\u001b[0m)              │         \u001b[38;5;34m3,591\u001b[0m │\n",
       "└─────────────────────────────────┴────────────────────────┴───────────────┘\n"
      ]
     },
     "metadata": {},
     "output_type": "display_data"
    },
    {
     "data": {
      "text/html": [
       "<pre style=\"white-space:pre;overflow-x:auto;line-height:normal;font-family:Menlo,'DejaVu Sans Mono',consolas,'Courier New',monospace\"><span style=\"font-weight: bold\"> Total params: </span><span style=\"color: #00af00; text-decoration-color: #00af00\">4,348,679</span> (16.59 MB)\n",
       "</pre>\n"
      ],
      "text/plain": [
       "\u001b[1m Total params: \u001b[0m\u001b[38;5;34m4,348,679\u001b[0m (16.59 MB)\n"
      ]
     },
     "metadata": {},
     "output_type": "display_data"
    },
    {
     "data": {
      "text/html": [
       "<pre style=\"white-space:pre;overflow-x:auto;line-height:normal;font-family:Menlo,'DejaVu Sans Mono',consolas,'Courier New',monospace\"><span style=\"font-weight: bold\"> Trainable params: </span><span style=\"color: #00af00; text-decoration-color: #00af00\">4,344,711</span> (16.57 MB)\n",
       "</pre>\n"
      ],
      "text/plain": [
       "\u001b[1m Trainable params: \u001b[0m\u001b[38;5;34m4,344,711\u001b[0m (16.57 MB)\n"
      ]
     },
     "metadata": {},
     "output_type": "display_data"
    },
    {
     "data": {
      "text/html": [
       "<pre style=\"white-space:pre;overflow-x:auto;line-height:normal;font-family:Menlo,'DejaVu Sans Mono',consolas,'Courier New',monospace\"><span style=\"font-weight: bold\"> Non-trainable params: </span><span style=\"color: #00af00; text-decoration-color: #00af00\">3,968</span> (15.50 KB)\n",
       "</pre>\n"
      ],
      "text/plain": [
       "\u001b[1m Non-trainable params: \u001b[0m\u001b[38;5;34m3,968\u001b[0m (15.50 KB)\n"
      ]
     },
     "metadata": {},
     "output_type": "display_data"
    },
    {
     "name": "stdout",
     "output_type": "stream",
     "text": [
      "None\n"
     ]
    }
   ],
   "source": [
    "# Build the model\n",
    "model = build_model()\n",
    "\n",
    "# Print model summary\n",
    "print(model.summary())"
   ]
  },
  {
   "cell_type": "markdown",
   "id": "b1950501",
   "metadata": {
    "id": "wLTQrJYkG_Tg",
    "papermill": {
     "duration": 0.01321,
     "end_time": "2024-08-07T16:26:35.016627",
     "exception": false,
     "start_time": "2024-08-07T16:26:35.003417",
     "status": "completed"
    },
    "tags": []
   },
   "source": [
    "The `ModelCheckpoint` callback is initialized to save the model weights during training. It monitors the validation accuracy (`val_acc`) and saves only the best model (determined by the maximum validation accuracy) to the specified file `\"model.h5\"`."
   ]
  },
  {
   "cell_type": "code",
   "execution_count": 17,
   "id": "d55e1072",
   "metadata": {
    "execution": {
     "iopub.execute_input": "2024-08-07T16:26:35.046263Z",
     "iopub.status.busy": "2024-08-07T16:26:35.045640Z",
     "iopub.status.idle": "2024-08-07T16:26:35.050155Z",
     "shell.execute_reply": "2024-08-07T16:26:35.049277Z"
    },
    "id": "M-smbpQKkVV7",
    "papermill": {
     "duration": 0.02148,
     "end_time": "2024-08-07T16:26:35.052163",
     "exception": false,
     "start_time": "2024-08-07T16:26:35.030683",
     "status": "completed"
    },
    "tags": []
   },
   "outputs": [],
   "source": [
    "# Initialize ModelCheckpoint callback\n",
    "# checkpoint = ModelCheckpoint(\"model.h5\", monitor=\"val_acc\", verbose=1, save_best_only=True)\n",
    "# Initialize ModelCheckpoint callback\n",
    "checkpoint = ModelCheckpoint(\"model.keras\", monitor=\"val_acc\", verbose=1, save_best_only=True)"
   ]
  },
  {
   "cell_type": "markdown",
   "id": "90356ab9",
   "metadata": {
    "id": "oBiZw1EpHkFv",
    "papermill": {
     "duration": 0.013144,
     "end_time": "2024-08-07T16:26:35.078763",
     "exception": false,
     "start_time": "2024-08-07T16:26:35.065619",
     "status": "completed"
    },
    "tags": []
   },
   "source": [
    "The `EarlyStopping` callback is initialized to monitor the validation loss (`val_loss`). It stops the training process if the validation loss does not improve for a certain number of epochs (`patience`) specified by the user. The training is stopped early to prevent overfitting, and the weights of the best performing model are restored (`restore_best_weights=True`)."
   ]
  },
  {
   "cell_type": "code",
   "execution_count": 18,
   "id": "ae37914c",
   "metadata": {
    "execution": {
     "iopub.execute_input": "2024-08-07T16:26:35.106329Z",
     "iopub.status.busy": "2024-08-07T16:26:35.105974Z",
     "iopub.status.idle": "2024-08-07T16:26:35.110270Z",
     "shell.execute_reply": "2024-08-07T16:26:35.109471Z"
    },
    "id": "zuArFO2GkbKM",
    "papermill": {
     "duration": 0.020162,
     "end_time": "2024-08-07T16:26:35.112106",
     "exception": false,
     "start_time": "2024-08-07T16:26:35.091944",
     "status": "completed"
    },
    "tags": []
   },
   "outputs": [],
   "source": [
    "# Initialize EarlyStopping callback\n",
    "early_stopping = EarlyStopping(\n",
    "    monitor='val_loss',\n",
    "    min_delta=0,\n",
    "    patience=3,\n",
    "    verbose=1,\n",
    "    restore_best_weights=True\n",
    ")"
   ]
  },
  {
   "cell_type": "markdown",
   "id": "796eb3a0",
   "metadata": {
    "id": "RTAehL6DHvym",
    "papermill": {
     "duration": 0.013141,
     "end_time": "2024-08-07T16:26:35.138514",
     "exception": false,
     "start_time": "2024-08-07T16:26:35.125373",
     "status": "completed"
    },
    "tags": []
   },
   "source": [
    "The `ReduceLROnPlateau` callback is initialized to dynamically adjust the learning rate during training based on the validation loss (`val_loss`). If the validation loss does not improve for a certain number of epochs (`patience`), the learning rate is reduced by a factor specified by the user (`factor`). This helps improve the training process and prevent the model from getting stuck in local minima."
   ]
  },
  {
   "cell_type": "code",
   "execution_count": 19,
   "id": "bbb34112",
   "metadata": {
    "execution": {
     "iopub.execute_input": "2024-08-07T16:26:35.166425Z",
     "iopub.status.busy": "2024-08-07T16:26:35.166122Z",
     "iopub.status.idle": "2024-08-07T16:26:35.170427Z",
     "shell.execute_reply": "2024-08-07T16:26:35.169472Z"
    },
    "id": "FcWqpIDfkdkh",
    "papermill": {
     "duration": 0.020553,
     "end_time": "2024-08-07T16:26:35.172382",
     "exception": false,
     "start_time": "2024-08-07T16:26:35.151829",
     "status": "completed"
    },
    "tags": []
   },
   "outputs": [],
   "source": [
    "# Initialize ReduceLROnPlateau callback\n",
    "reduce_learningrate = ReduceLROnPlateau(\n",
    "    monitor='val_loss',\n",
    "    factor=0.2,\n",
    "    patience=3,\n",
    "    verbose=1,\n",
    "    min_delta=0.0001\n",
    ")"
   ]
  },
  {
   "cell_type": "markdown",
   "id": "8dd4adaf",
   "metadata": {
    "id": "tJwx_MScH6Vh",
    "papermill": {
     "duration": 0.013137,
     "end_time": "2024-08-07T16:26:35.199147",
     "exception": false,
     "start_time": "2024-08-07T16:26:35.186010",
     "status": "completed"
    },
    "tags": []
   },
   "source": [
    "The `callbacks_list` is a list containing the callbacks to be used during the training of the model. It includes the `EarlyStopping`, `ModelCheckpoint`, and `ReduceLROnPlateau` callbacks, which are used to monitor the validation loss, save the best model, and adjust the learning rate, respectively.\n"
   ]
  },
  {
   "cell_type": "code",
   "execution_count": 20,
   "id": "7e16d1e8",
   "metadata": {
    "execution": {
     "iopub.execute_input": "2024-08-07T16:26:35.227895Z",
     "iopub.status.busy": "2024-08-07T16:26:35.227541Z",
     "iopub.status.idle": "2024-08-07T16:26:35.231721Z",
     "shell.execute_reply": "2024-08-07T16:26:35.230913Z"
    },
    "id": "hkFIZipIkgA_",
    "papermill": {
     "duration": 0.021029,
     "end_time": "2024-08-07T16:26:35.233674",
     "exception": false,
     "start_time": "2024-08-07T16:26:35.212645",
     "status": "completed"
    },
    "tags": []
   },
   "outputs": [],
   "source": [
    "# List of callbacks\n",
    "callbacks_list = [early_stopping, checkpoint, reduce_learningrate]"
   ]
  },
  {
   "cell_type": "markdown",
   "id": "fbaeeb2d",
   "metadata": {
    "id": "22-FfpcpIJX8",
    "papermill": {
     "duration": 0.013061,
     "end_time": "2024-08-07T16:26:35.260393",
     "exception": false,
     "start_time": "2024-08-07T16:26:35.247332",
     "status": "completed"
    },
    "tags": []
   },
   "source": [
    "The `compile()` method is called on the model to configure the training process. It specifies the loss function, optimizer, and evaluation metrics to be used during training.\n",
    "\n",
    "- **Loss Function**: Categorical cross-entropy is used as the loss function for multi-class classification problems.\n",
    "- **Optimizer**: Adam optimizer is chosen with a learning rate of 0.001.\n",
    "- **Metrics**: Accuracy is used as the evaluation metric to monitor the performance of the model during training."
   ]
  },
  {
   "cell_type": "code",
   "execution_count": 21,
   "id": "85a0a6c3",
   "metadata": {
    "execution": {
     "iopub.execute_input": "2024-08-07T16:26:35.288726Z",
     "iopub.status.busy": "2024-08-07T16:26:35.287899Z",
     "iopub.status.idle": "2024-08-07T16:26:35.296538Z",
     "shell.execute_reply": "2024-08-07T16:26:35.295854Z"
    },
    "id": "_DgH_tueki6T",
    "papermill": {
     "duration": 0.02479,
     "end_time": "2024-08-07T16:26:35.298355",
     "exception": false,
     "start_time": "2024-08-07T16:26:35.273565",
     "status": "completed"
    },
    "tags": []
   },
   "outputs": [],
   "source": [
    "# Compile the model\n",
    "model.compile(\n",
    "    loss='categorical_crossentropy',\n",
    "    optimizer=Adam(learning_rate=0.001),\n",
    "    metrics=['accuracy']\n",
    ")"
   ]
  },
  {
   "cell_type": "markdown",
   "id": "12b4f1e9",
   "metadata": {
    "id": "WacGYPD5IlBk",
    "papermill": {
     "duration": 0.013006,
     "end_time": "2024-08-07T16:26:35.324535",
     "exception": false,
     "start_time": "2024-08-07T16:26:35.311529",
     "status": "completed"
    },
    "tags": []
   },
   "source": [
    "The `fit()` method is called on the model to train it on the training data. It takes the following parameters:\n",
    "\n",
    "- `data_gen.flow(X_train, y_train_categorical, batch_size=128)`: A generator that yields batches of augmented training data. Data augmentation is applied on-the-fly using the `ImageDataGenerator` object defined earlier.\n",
    "- `validation_data=(X_val, y_val_categorical)`: Validation data to evaluate the model's performance after each epoch.\n",
    "- `epochs=50`: The number of epochs to train the model.\n",
    "- `verbose=1`: Specifies the verbosity mode. Here, it prints progress bars during training."
   ]
  },
  {
   "cell_type": "code",
   "execution_count": 22,
   "id": "73db986e",
   "metadata": {
    "execution": {
     "iopub.execute_input": "2024-08-07T16:26:35.352678Z",
     "iopub.status.busy": "2024-08-07T16:26:35.351939Z",
     "iopub.status.idle": "2024-08-07T16:35:19.558328Z",
     "shell.execute_reply": "2024-08-07T16:35:19.557209Z"
    },
    "id": "5kzrbdyx_UqG",
    "papermill": {
     "duration": 524.222557,
     "end_time": "2024-08-07T16:35:19.560509",
     "exception": false,
     "start_time": "2024-08-07T16:26:35.337952",
     "status": "completed"
    },
    "tags": []
   },
   "outputs": [
    {
     "name": "stdout",
     "output_type": "stream",
     "text": [
      "Epoch 1/50\n"
     ]
    },
    {
     "name": "stderr",
     "output_type": "stream",
     "text": [
      "/opt/conda/lib/python3.10/site-packages/keras/src/trainers/data_adapters/py_dataset_adapter.py:121: UserWarning: Your `PyDataset` class should call `super().__init__(**kwargs)` in its constructor. `**kwargs` can include `workers`, `use_multiprocessing`, `max_queue_size`. Do not pass these arguments to `fit()`, as they will be ignored.\n",
      "  self._warn_if_super_not_called()\n"
     ]
    },
    {
     "name": "stdout",
     "output_type": "stream",
     "text": [
      "\u001b[1m  4/163\u001b[0m \u001b[37m━━━━━━━━━━━━━━━━━━━━\u001b[0m \u001b[1m7s\u001b[0m 46ms/step - accuracy: 0.1673 - loss: 2.8490"
     ]
    },
    {
     "name": "stderr",
     "output_type": "stream",
     "text": [
      "WARNING: All log messages before absl::InitializeLog() is called are written to STDERR\n",
      "I0000 00:00:1723048016.191735      67 device_compiler.h:186] Compiled cluster using XLA!  This line is logged at most once for the lifetime of the process.\n",
      "W0000 00:00:1723048016.219672      67 graph_launch.cc:671] Fallback to op-by-op mode because memset node breaks graph update\n"
     ]
    },
    {
     "name": "stdout",
     "output_type": "stream",
     "text": [
      "\u001b[1m163/163\u001b[0m \u001b[32m━━━━━━━━━━━━━━━━━━━━\u001b[0m\u001b[37m\u001b[0m \u001b[1m45s\u001b[0m 148ms/step - accuracy: 0.2027 - loss: 2.3725 - val_accuracy: 0.2411 - val_loss: 2.9176\n",
      "Epoch 2/50\n"
     ]
    },
    {
     "name": "stderr",
     "output_type": "stream",
     "text": [
      "W0000 00:00:1723048040.236235      69 graph_launch.cc:671] Fallback to op-by-op mode because memset node breaks graph update\n"
     ]
    },
    {
     "name": "stdout",
     "output_type": "stream",
     "text": [
      "\u001b[1m163/163\u001b[0m \u001b[32m━━━━━━━━━━━━━━━━━━━━\u001b[0m\u001b[37m\u001b[0m \u001b[1m10s\u001b[0m 59ms/step - accuracy: 0.2582 - loss: 1.9370 - val_accuracy: 0.1691 - val_loss: 2.7301\n",
      "Epoch 3/50\n",
      "\u001b[1m163/163\u001b[0m \u001b[32m━━━━━━━━━━━━━━━━━━━━\u001b[0m\u001b[37m\u001b[0m \u001b[1m10s\u001b[0m 59ms/step - accuracy: 0.3270 - loss: 1.7514 - val_accuracy: 0.2875 - val_loss: 3.3534\n",
      "Epoch 4/50\n",
      "\u001b[1m163/163\u001b[0m \u001b[32m━━━━━━━━━━━━━━━━━━━━\u001b[0m\u001b[37m\u001b[0m \u001b[1m10s\u001b[0m 58ms/step - accuracy: 0.3793 - loss: 1.6000 - val_accuracy: 0.3938 - val_loss: 1.5800\n",
      "Epoch 5/50\n",
      "\u001b[1m163/163\u001b[0m \u001b[32m━━━━━━━━━━━━━━━━━━━━\u001b[0m\u001b[37m\u001b[0m \u001b[1m10s\u001b[0m 58ms/step - accuracy: 0.4107 - loss: 1.5304 - val_accuracy: 0.4540 - val_loss: 1.4774\n",
      "Epoch 6/50\n",
      "\u001b[1m163/163\u001b[0m \u001b[32m━━━━━━━━━━━━━━━━━━━━\u001b[0m\u001b[37m\u001b[0m \u001b[1m10s\u001b[0m 58ms/step - accuracy: 0.4473 - loss: 1.4497 - val_accuracy: 0.4241 - val_loss: 1.8490\n",
      "Epoch 7/50\n",
      "\u001b[1m163/163\u001b[0m \u001b[32m━━━━━━━━━━━━━━━━━━━━\u001b[0m\u001b[37m\u001b[0m \u001b[1m10s\u001b[0m 57ms/step - accuracy: 0.4661 - loss: 1.3864 - val_accuracy: 0.4493 - val_loss: 1.6787\n",
      "Epoch 8/50\n",
      "\u001b[1m163/163\u001b[0m \u001b[32m━━━━━━━━━━━━━━━━━━━━\u001b[0m\u001b[37m\u001b[0m \u001b[1m10s\u001b[0m 58ms/step - accuracy: 0.4943 - loss: 1.3267 - val_accuracy: 0.4722 - val_loss: 1.7081\n",
      "Epoch 9/50\n",
      "\u001b[1m163/163\u001b[0m \u001b[32m━━━━━━━━━━━━━━━━━━━━\u001b[0m\u001b[37m\u001b[0m \u001b[1m10s\u001b[0m 58ms/step - accuracy: 0.4980 - loss: 1.3202 - val_accuracy: 0.4553 - val_loss: 1.5885\n",
      "Epoch 10/50\n",
      "\u001b[1m163/163\u001b[0m \u001b[32m━━━━━━━━━━━━━━━━━━━━\u001b[0m\u001b[37m\u001b[0m \u001b[1m10s\u001b[0m 57ms/step - accuracy: 0.5035 - loss: 1.2943 - val_accuracy: 0.4835 - val_loss: 1.7356\n",
      "Epoch 11/50\n",
      "\u001b[1m163/163\u001b[0m \u001b[32m━━━━━━━━━━━━━━━━━━━━\u001b[0m\u001b[37m\u001b[0m \u001b[1m10s\u001b[0m 58ms/step - accuracy: 0.5273 - loss: 1.2369 - val_accuracy: 0.4801 - val_loss: 1.8600\n",
      "Epoch 12/50\n",
      "\u001b[1m163/163\u001b[0m \u001b[32m━━━━━━━━━━━━━━━━━━━━\u001b[0m\u001b[37m\u001b[0m \u001b[1m10s\u001b[0m 57ms/step - accuracy: 0.5254 - loss: 1.2390 - val_accuracy: 0.5056 - val_loss: 1.6496\n",
      "Epoch 13/50\n",
      "\u001b[1m163/163\u001b[0m \u001b[32m━━━━━━━━━━━━━━━━━━━━\u001b[0m\u001b[37m\u001b[0m \u001b[1m10s\u001b[0m 57ms/step - accuracy: 0.5389 - loss: 1.2067 - val_accuracy: 0.5455 - val_loss: 1.8874\n",
      "Epoch 14/50\n",
      "\u001b[1m163/163\u001b[0m \u001b[32m━━━━━━━━━━━━━━━━━━━━\u001b[0m\u001b[37m\u001b[0m \u001b[1m10s\u001b[0m 58ms/step - accuracy: 0.5463 - loss: 1.1952 - val_accuracy: 0.5516 - val_loss: 1.8314\n",
      "Epoch 15/50\n",
      "\u001b[1m163/163\u001b[0m \u001b[32m━━━━━━━━━━━━━━━━━━━━\u001b[0m\u001b[37m\u001b[0m \u001b[1m10s\u001b[0m 57ms/step - accuracy: 0.5484 - loss: 1.1818 - val_accuracy: 0.5074 - val_loss: 2.2425\n",
      "Epoch 16/50\n",
      "\u001b[1m163/163\u001b[0m \u001b[32m━━━━━━━━━━━━━━━━━━━━\u001b[0m\u001b[37m\u001b[0m \u001b[1m10s\u001b[0m 57ms/step - accuracy: 0.5505 - loss: 1.1720 - val_accuracy: 0.5455 - val_loss: 1.9734\n",
      "Epoch 17/50\n",
      "\u001b[1m163/163\u001b[0m \u001b[32m━━━━━━━━━━━━━━━━━━━━\u001b[0m\u001b[37m\u001b[0m \u001b[1m10s\u001b[0m 57ms/step - accuracy: 0.5637 - loss: 1.1515 - val_accuracy: 0.5507 - val_loss: 1.6824\n",
      "Epoch 18/50\n",
      "\u001b[1m163/163\u001b[0m \u001b[32m━━━━━━━━━━━━━━━━━━━━\u001b[0m\u001b[37m\u001b[0m \u001b[1m10s\u001b[0m 58ms/step - accuracy: 0.5683 - loss: 1.1349 - val_accuracy: 0.5794 - val_loss: 1.3372\n",
      "Epoch 19/50\n",
      "\u001b[1m163/163\u001b[0m \u001b[32m━━━━━━━━━━━━━━━━━━━━\u001b[0m\u001b[37m\u001b[0m \u001b[1m10s\u001b[0m 56ms/step - accuracy: 0.5801 - loss: 1.1158 - val_accuracy: 0.5061 - val_loss: 1.8382\n",
      "Epoch 20/50\n",
      "\u001b[1m163/163\u001b[0m \u001b[32m━━━━━━━━━━━━━━━━━━━━\u001b[0m\u001b[37m\u001b[0m \u001b[1m10s\u001b[0m 56ms/step - accuracy: 0.5842 - loss: 1.1002 - val_accuracy: 0.5763 - val_loss: 1.6244\n",
      "Epoch 21/50\n",
      "\u001b[1m163/163\u001b[0m \u001b[32m━━━━━━━━━━━━━━━━━━━━\u001b[0m\u001b[37m\u001b[0m \u001b[1m10s\u001b[0m 58ms/step - accuracy: 0.5908 - loss: 1.0780 - val_accuracy: 0.5755 - val_loss: 1.4689\n",
      "Epoch 22/50\n",
      "\u001b[1m163/163\u001b[0m \u001b[32m━━━━━━━━━━━━━━━━━━━━\u001b[0m\u001b[37m\u001b[0m \u001b[1m10s\u001b[0m 57ms/step - accuracy: 0.5877 - loss: 1.0870 - val_accuracy: 0.5958 - val_loss: 1.4519\n",
      "Epoch 23/50\n",
      "\u001b[1m163/163\u001b[0m \u001b[32m━━━━━━━━━━━━━━━━━━━━\u001b[0m\u001b[37m\u001b[0m \u001b[1m10s\u001b[0m 57ms/step - accuracy: 0.5963 - loss: 1.0673 - val_accuracy: 0.6075 - val_loss: 1.3529\n",
      "Epoch 24/50\n",
      "\u001b[1m163/163\u001b[0m \u001b[32m━━━━━━━━━━━━━━━━━━━━\u001b[0m\u001b[37m\u001b[0m \u001b[1m10s\u001b[0m 59ms/step - accuracy: 0.5936 - loss: 1.0683 - val_accuracy: 0.5984 - val_loss: 1.9523\n",
      "Epoch 25/50\n",
      "\u001b[1m163/163\u001b[0m \u001b[32m━━━━━━━━━━━━━━━━━━━━\u001b[0m\u001b[37m\u001b[0m \u001b[1m10s\u001b[0m 58ms/step - accuracy: 0.6056 - loss: 1.0460 - val_accuracy: 0.5438 - val_loss: 1.6937\n",
      "Epoch 26/50\n",
      "\u001b[1m163/163\u001b[0m \u001b[32m━━━━━━━━━━━━━━━━━━━━\u001b[0m\u001b[37m\u001b[0m \u001b[1m10s\u001b[0m 56ms/step - accuracy: 0.6092 - loss: 1.0389 - val_accuracy: 0.5763 - val_loss: 2.0225\n",
      "Epoch 27/50\n",
      "\u001b[1m163/163\u001b[0m \u001b[32m━━━━━━━━━━━━━━━━━━━━\u001b[0m\u001b[37m\u001b[0m \u001b[1m10s\u001b[0m 58ms/step - accuracy: 0.6148 - loss: 1.0204 - val_accuracy: 0.5633 - val_loss: 1.4335\n",
      "Epoch 28/50\n",
      "\u001b[1m163/163\u001b[0m \u001b[32m━━━━━━━━━━━━━━━━━━━━\u001b[0m\u001b[37m\u001b[0m \u001b[1m10s\u001b[0m 57ms/step - accuracy: 0.6191 - loss: 1.0120 - val_accuracy: 0.6097 - val_loss: 1.5257\n",
      "Epoch 29/50\n",
      "\u001b[1m163/163\u001b[0m \u001b[32m━━━━━━━━━━━━━━━━━━━━\u001b[0m\u001b[37m\u001b[0m \u001b[1m10s\u001b[0m 56ms/step - accuracy: 0.6295 - loss: 0.9891 - val_accuracy: 0.5859 - val_loss: 1.9414\n",
      "Epoch 30/50\n",
      "\u001b[1m163/163\u001b[0m \u001b[32m━━━━━━━━━━━━━━━━━━━━\u001b[0m\u001b[37m\u001b[0m \u001b[1m10s\u001b[0m 57ms/step - accuracy: 0.6287 - loss: 0.9868 - val_accuracy: 0.5659 - val_loss: 1.6922\n",
      "Epoch 31/50\n",
      "\u001b[1m163/163\u001b[0m \u001b[32m━━━━━━━━━━━━━━━━━━━━\u001b[0m\u001b[37m\u001b[0m \u001b[1m10s\u001b[0m 57ms/step - accuracy: 0.6392 - loss: 0.9607 - val_accuracy: 0.6045 - val_loss: 1.8554\n",
      "Epoch 32/50\n",
      "\u001b[1m163/163\u001b[0m \u001b[32m━━━━━━━━━━━━━━━━━━━━\u001b[0m\u001b[37m\u001b[0m \u001b[1m10s\u001b[0m 57ms/step - accuracy: 0.6368 - loss: 0.9648 - val_accuracy: 0.6028 - val_loss: 1.3793\n",
      "Epoch 33/50\n",
      "\u001b[1m163/163\u001b[0m \u001b[32m━━━━━━━━━━━━━━━━━━━━\u001b[0m\u001b[37m\u001b[0m \u001b[1m10s\u001b[0m 57ms/step - accuracy: 0.6393 - loss: 0.9624 - val_accuracy: 0.6154 - val_loss: 1.6337\n",
      "Epoch 34/50\n",
      "\u001b[1m163/163\u001b[0m \u001b[32m━━━━━━━━━━━━━━━━━━━━\u001b[0m\u001b[37m\u001b[0m \u001b[1m10s\u001b[0m 58ms/step - accuracy: 0.6437 - loss: 0.9378 - val_accuracy: 0.6071 - val_loss: 1.5757\n",
      "Epoch 35/50\n",
      "\u001b[1m163/163\u001b[0m \u001b[32m━━━━━━━━━━━━━━━━━━━━\u001b[0m\u001b[37m\u001b[0m \u001b[1m10s\u001b[0m 57ms/step - accuracy: 0.6441 - loss: 0.9351 - val_accuracy: 0.6067 - val_loss: 1.8713\n",
      "Epoch 36/50\n",
      "\u001b[1m163/163\u001b[0m \u001b[32m━━━━━━━━━━━━━━━━━━━━\u001b[0m\u001b[37m\u001b[0m \u001b[1m10s\u001b[0m 56ms/step - accuracy: 0.6446 - loss: 0.9446 - val_accuracy: 0.6262 - val_loss: 1.5460\n",
      "Epoch 37/50\n",
      "\u001b[1m163/163\u001b[0m \u001b[32m━━━━━━━━━━━━━━━━━━━━\u001b[0m\u001b[37m\u001b[0m \u001b[1m10s\u001b[0m 58ms/step - accuracy: 0.6551 - loss: 0.9218 - val_accuracy: 0.6240 - val_loss: 1.6172\n",
      "Epoch 38/50\n",
      "\u001b[1m163/163\u001b[0m \u001b[32m━━━━━━━━━━━━━━━━━━━━\u001b[0m\u001b[37m\u001b[0m \u001b[1m10s\u001b[0m 57ms/step - accuracy: 0.6582 - loss: 0.9043 - val_accuracy: 0.5958 - val_loss: 2.7929\n",
      "Epoch 39/50\n",
      "\u001b[1m163/163\u001b[0m \u001b[32m━━━━━━━━━━━━━━━━━━━━\u001b[0m\u001b[37m\u001b[0m \u001b[1m10s\u001b[0m 56ms/step - accuracy: 0.6620 - loss: 0.9056 - val_accuracy: 0.5794 - val_loss: 2.0299\n",
      "Epoch 40/50\n",
      "\u001b[1m163/163\u001b[0m \u001b[32m━━━━━━━━━━━━━━━━━━━━\u001b[0m\u001b[37m\u001b[0m \u001b[1m10s\u001b[0m 58ms/step - accuracy: 0.6705 - loss: 0.8996 - val_accuracy: 0.6049 - val_loss: 1.4048\n",
      "Epoch 41/50\n",
      "\u001b[1m163/163\u001b[0m \u001b[32m━━━━━━━━━━━━━━━━━━━━\u001b[0m\u001b[37m\u001b[0m \u001b[1m10s\u001b[0m 57ms/step - accuracy: 0.6547 - loss: 0.9098 - val_accuracy: 0.6245 - val_loss: 1.4422\n",
      "Epoch 42/50\n",
      "\u001b[1m163/163\u001b[0m \u001b[32m━━━━━━━━━━━━━━━━━━━━\u001b[0m\u001b[37m\u001b[0m \u001b[1m10s\u001b[0m 57ms/step - accuracy: 0.6738 - loss: 0.8724 - val_accuracy: 0.5945 - val_loss: 1.3890\n",
      "Epoch 43/50\n",
      "\u001b[1m163/163\u001b[0m \u001b[32m━━━━━━━━━━━━━━━━━━━━\u001b[0m\u001b[37m\u001b[0m \u001b[1m10s\u001b[0m 58ms/step - accuracy: 0.6827 - loss: 0.8508 - val_accuracy: 0.6010 - val_loss: 1.3182\n",
      "Epoch 44/50\n",
      "\u001b[1m163/163\u001b[0m \u001b[32m━━━━━━━━━━━━━━━━━━━━\u001b[0m\u001b[37m\u001b[0m \u001b[1m10s\u001b[0m 57ms/step - accuracy: 0.6688 - loss: 0.8778 - val_accuracy: 0.6110 - val_loss: 1.2771\n",
      "Epoch 45/50\n",
      "\u001b[1m163/163\u001b[0m \u001b[32m━━━━━━━━━━━━━━━━━━━━\u001b[0m\u001b[37m\u001b[0m \u001b[1m10s\u001b[0m 56ms/step - accuracy: 0.6805 - loss: 0.8563 - val_accuracy: 0.6162 - val_loss: 1.2577\n",
      "Epoch 46/50\n",
      "\u001b[1m163/163\u001b[0m \u001b[32m━━━━━━━━━━━━━━━━━━━━\u001b[0m\u001b[37m\u001b[0m \u001b[1m10s\u001b[0m 57ms/step - accuracy: 0.6863 - loss: 0.8434 - val_accuracy: 0.5928 - val_loss: 1.6613\n",
      "Epoch 47/50\n",
      "\u001b[1m163/163\u001b[0m \u001b[32m━━━━━━━━━━━━━━━━━━━━\u001b[0m\u001b[37m\u001b[0m \u001b[1m10s\u001b[0m 58ms/step - accuracy: 0.6861 - loss: 0.8389 - val_accuracy: 0.6101 - val_loss: 1.1404\n",
      "Epoch 48/50\n",
      "\u001b[1m163/163\u001b[0m \u001b[32m━━━━━━━━━━━━━━━━━━━━\u001b[0m\u001b[37m\u001b[0m \u001b[1m10s\u001b[0m 57ms/step - accuracy: 0.6933 - loss: 0.8249 - val_accuracy: 0.6136 - val_loss: 1.3019\n",
      "Epoch 49/50\n",
      "\u001b[1m163/163\u001b[0m \u001b[32m━━━━━━━━━━━━━━━━━━━━\u001b[0m\u001b[37m\u001b[0m \u001b[1m10s\u001b[0m 57ms/step - accuracy: 0.7000 - loss: 0.8111 - val_accuracy: 0.6201 - val_loss: 1.0792\n",
      "Epoch 50/50\n",
      "\u001b[1m163/163\u001b[0m \u001b[32m━━━━━━━━━━━━━━━━━━━━\u001b[0m\u001b[37m\u001b[0m \u001b[1m10s\u001b[0m 58ms/step - accuracy: 0.6952 - loss: 0.8266 - val_accuracy: 0.6223 - val_loss: 1.1106\n"
     ]
    }
   ],
   "source": [
    "# Training the model\n",
    "history = model.fit(\n",
    "    data_gen.flow(X_train, y_train_categorical, batch_size=128),\n",
    "    validation_data=(X_val, y_val_categorical),\n",
    "    epochs=50,\n",
    "    verbose=1\n",
    ")"
   ]
  },
  {
   "cell_type": "markdown",
   "id": "1d7894d1",
   "metadata": {
    "id": "CUBFBK2qIxj4",
    "papermill": {
     "duration": 0.658423,
     "end_time": "2024-08-07T16:35:20.920255",
     "exception": false,
     "start_time": "2024-08-07T16:35:20.261832",
     "status": "completed"
    },
    "tags": []
   },
   "source": [
    "The trained model is saved to a file named `'modelv1.h5'` using the `save()` method. This file contains the model architecture, weights, and training configuration, allowing you to reload the model later for inference or further training."
   ]
  },
  {
   "cell_type": "code",
   "execution_count": 23,
   "id": "c06d5f93",
   "metadata": {
    "execution": {
     "iopub.execute_input": "2024-08-07T16:35:22.289589Z",
     "iopub.status.busy": "2024-08-07T16:35:22.289181Z",
     "iopub.status.idle": "2024-08-07T16:35:22.600420Z",
     "shell.execute_reply": "2024-08-07T16:35:22.599394Z"
    },
    "papermill": {
     "duration": 1.016305,
     "end_time": "2024-08-07T16:35:22.602895",
     "exception": false,
     "start_time": "2024-08-07T16:35:21.586590",
     "status": "completed"
    },
    "tags": []
   },
   "outputs": [],
   "source": [
    "# Save the model with .keras extension\n",
    "model.save(\"modelv1.keras\")"
   ]
  },
  {
   "cell_type": "code",
   "execution_count": 24,
   "id": "0574924b",
   "metadata": {
    "execution": {
     "iopub.execute_input": "2024-08-07T16:35:23.893835Z",
     "iopub.status.busy": "2024-08-07T16:35:23.893092Z",
     "iopub.status.idle": "2024-08-07T16:35:24.039629Z",
     "shell.execute_reply": "2024-08-07T16:35:24.038599Z"
    },
    "id": "uF0F95fykoDV",
    "papermill": {
     "duration": 0.795612,
     "end_time": "2024-08-07T16:35:24.042079",
     "exception": false,
     "start_time": "2024-08-07T16:35:23.246467",
     "status": "completed"
    },
    "tags": []
   },
   "outputs": [],
   "source": [
    "# Saving the model with .h5 extension\n",
    "model.save('modelv1.h5')"
   ]
  },
  {
   "cell_type": "markdown",
   "id": "bd80f557",
   "metadata": {
    "id": "Es_-GrjvJRKq",
    "papermill": {
     "duration": 0.703421,
     "end_time": "2024-08-07T16:35:25.396316",
     "exception": false,
     "start_time": "2024-08-07T16:35:24.692895",
     "status": "completed"
    },
    "tags": []
   },
   "source": [
    "The code snippet plots the model accuracy over epochs during training and validation. It visualizes how the model's performance changes over time and helps identify overfitting or underfitting."
   ]
  },
  {
   "cell_type": "code",
   "execution_count": 25,
   "id": "70a53527",
   "metadata": {
    "execution": {
     "iopub.execute_input": "2024-08-07T16:35:26.687909Z",
     "iopub.status.busy": "2024-08-07T16:35:26.687546Z",
     "iopub.status.idle": "2024-08-07T16:35:26.987827Z",
     "shell.execute_reply": "2024-08-07T16:35:26.986895Z"
    },
    "id": "SxmRSt_sxDve",
    "papermill": {
     "duration": 0.950012,
     "end_time": "2024-08-07T16:35:26.990035",
     "exception": false,
     "start_time": "2024-08-07T16:35:26.040023",
     "status": "completed"
    },
    "tags": []
   },
   "outputs": [
    {
     "data": {
      "image/png": "[encoded data removed]",
      "text/plain": [
       "<Figure size 640x480 with 1 Axes>"
      ]
     },
     "metadata": {},
     "output_type": "display_data"
    }
   ],
   "source": [
    "# Plotting model performance\n",
    "plt.plot(history.history['accuracy'], label='train_accuracy', marker='o')\n",
    "plt.plot(history.history['val_accuracy'], label='val_accuracy', marker='o')\n",
    "plt.title('Model Accuracy')\n",
    "plt.xlabel('Epochs')\n",
    "plt.ylabel('Accuracy')\n",
    "plt.legend()\n",
    "plt.show()"
   ]
  },
  {
   "cell_type": "code",
   "execution_count": null,
   "id": "003137c1",
   "metadata": {
    "papermill": {
     "duration": 0.645823,
     "end_time": "2024-08-07T16:35:28.330138",
     "exception": false,
     "start_time": "2024-08-07T16:35:27.684315",
     "status": "completed"
    },
    "tags": []
   },
   "outputs": [],
   "source": []
  }
 ],
 "metadata": {
  "accelerator": "TPU",
  "colab": {
   "gpuType": "V28",
   "provenance": []
  },
  "kaggle": {
   "accelerator": "gpu",
   "dataSources": [
    {
     "datasetId": 99505,
     "sourceId": 234911,
     "sourceType": "datasetVersion"
    }
   ],
   "isGpuEnabled": true,
   "isInternetEnabled": false,
   "language": "python",
   "sourceType": "notebook"
  },
  "kernelspec": {
   "display_name": "Python 3",
   "language": "python",
   "name": "python3"
  },
  "language_info": {
   "codemirror_mode": {
    "name": "ipython",
    "version": 3
   },
   "file_extension": ".py",
   "mimetype": "text/x-python",
   "name": "python",
   "nbconvert_exporter": "python",
   "pygments_lexer": "ipython3",
   "version": "3.10.13"
  },
  "papermill": {
   "default_parameters": {},
   "duration": 647.742723,
   "end_time": "2024-08-07T16:35:31.371157",
   "environment_variables": {},
   "exception": null,
   "input_path": "__notebook__.ipynb",
   "output_path": "__notebook__.ipynb",
   "parameters": {},
   "start_time": "2024-08-07T16:24:43.628434",
   "version": "2.5.0"
  }
 },
 "nbformat": 4,
 "nbformat_minor": 5
}
